{
 "cells": [
  {
   "cell_type": "code",
   "execution_count": 1,
   "metadata": {},
   "outputs": [],
   "source": [
    "#Import Packages\n",
    "from selenium import webdriver\n",
    "from selenium.webdriver.common.by import By\n",
    "from dotenv import load_dotenv\n",
    "from selenium.webdriver.support.ui import WebDriverWait\n",
    "from selenium.webdriver.support import expected_conditions\n",
    "import os\n",
    "import time"
   ]
  },
  {
   "cell_type": "code",
   "execution_count": 2,
   "metadata": {},
   "outputs": [],
   "source": [
    "dashboardUrl = \"https://lms.lpuonline.com/\""
   ]
  },
  {
   "cell_type": "code",
   "execution_count": 3,
   "metadata": {},
   "outputs": [],
   "source": [
    "#Load the web driver and get the url\n",
    "driver = webdriver.Chrome()\n",
    "driver.implicitly_wait(10)\n",
    "driver.get(dashboardUrl)"
   ]
  },
  {
   "cell_type": "code",
   "execution_count": 4,
   "metadata": {},
   "outputs": [
    {
     "name": "stdout",
     "output_type": "stream",
     "text": [
      "<class 'str'> <class 'str'>\n"
     ]
    }
   ],
   "source": [
    "load_dotenv()\n",
    "username = os.environ.get(\"registrationId\")\n",
    "password = os.environ.get(\"password\")\n",
    "print(type(username), type(password))"
   ]
  },
  {
   "cell_type": "code",
   "execution_count": 5,
   "metadata": {},
   "outputs": [],
   "source": [
    "usernameInput = driver.find_element(By.ID, \"username\")\n",
    "passwordInput = driver.find_element(By.ID, \"Password\")\n",
    "loginButton = driver.find_element(By.ID, \"LoginButton\")"
   ]
  },
  {
   "cell_type": "code",
   "execution_count": 6,
   "metadata": {},
   "outputs": [],
   "source": [
    "usernameInput.send_keys(username)\n",
    "passwordInput.send_keys(password)\n",
    "loginButton.click()"
   ]
  },
  {
   "cell_type": "code",
   "execution_count": 7,
   "metadata": {},
   "outputs": [],
   "source": [
    "totalSubjects = driver.find_element(By.ID, \"crprogress\").find_elements(By.CLASS_NAME, \"prog-card\").__len__()"
   ]
  },
  {
   "cell_type": "code",
   "execution_count": 8,
   "metadata": {},
   "outputs": [],
   "source": [
    "def lectureHandler(inPlay = False):\n",
    "    totalLectures = (driver.find_element(By.CLASS_NAME, \"inPlay\") if inPlay else driver.find_element(By.CLASS_NAME, \"unit\").find_element(By.CLASS_NAME, \"collapse\")).find_elements(By.CLASS_NAME, \"videoli\").__len__()\n",
    "    if totalLectures == 0:\n",
    "        raise Exception(\"Lectures not loaded\") # raise error if lectures are not found\n",
    "    \n",
    "    for currentLectureIndex in range(totalLectures):\n",
    "        print(\"currentLectureIndex \", currentLectureIndex, \"total lectures in current unit is \", totalLectures)\n",
    "        \n",
    "        progressText = driver.find_element(By.CLASS_NAME, \"inPlay\").find_element(By.CLASS_NAME, \"progress-text\").text\n",
    "        if inPlay and progressText == \"100%\": # exit from this function if inPlay = True and all lectures inPlay are already watched\n",
    "            print(\"100% Video Progress\")\n",
    "            break \n",
    "        \n",
    "        try: # try needed because when 1st video of current unit completed then current unit lectures are shifted to inPlay div \n",
    "            nextLecture =  (driver.find_element(By.CLASS_NAME, \"inPlay\") if inPlay else driver.find_element(By.CLASS_NAME, \"unit\").find_element(By.CLASS_NAME, \"collapse\")).find_elements(By.CLASS_NAME, \"videoli\")[currentLectureIndex]\n",
    "        except: # if nextLecture raise indexing error then take nextLecture will be taken from inPlay div\n",
    "            nextLecture = driver.find_element(By.CLASS_NAME, \"inPlay\").find_elements(By.CLASS_NAME, \"videoli\")[currentLectureIndex]\n",
    "        \n",
    "        nextLecture.find_element(By.CLASS_NAME, \"cc-a\").click()\n",
    "        time.sleep(10) # wait for player initiate\n",
    "        driver.execute_script(open(\"./videoHandler.js\").read())\n",
    "        time.sleep(10)"
   ]
  },
  {
   "cell_type": "code",
   "execution_count": 10,
   "metadata": {},
   "outputs": [
    {
     "name": "stdout",
     "output_type": "stream",
     "text": [
      "\n",
      "\n",
      "currentSubjectIndex  0\n",
      "\n",
      "totalRemainingUnit 0\n",
      "currentLectureIndex  0 total lectures in current unit is  3\n",
      "100% Video Progress\n",
      "\n",
      "\n",
      "currentSubjectIndex  1\n",
      "\n",
      "totalRemainingUnit 0\n",
      "currentLectureIndex  0 total lectures in current unit is  1\n",
      "100% Video Progress\n",
      "\n",
      "\n",
      "currentSubjectIndex  2\n",
      "\n",
      "totalRemainingUnit 0\n",
      "currentLectureIndex  0 total lectures in current unit is  2\n",
      "100% Video Progress\n",
      "\n",
      "\n",
      "currentSubjectIndex  3\n",
      "\n",
      "totalRemainingUnit 0\n",
      "currentLectureIndex  0 total lectures in current unit is  10\n",
      "100% Video Progress\n",
      "\n",
      "\n",
      "currentSubjectIndex  4\n",
      "\n",
      "totalRemainingUnit 0\n",
      "currentLectureIndex  0 total lectures in current unit is  1\n",
      "100% Video Progress\n",
      "\n",
      "\n",
      "currentSubjectIndex  5\n",
      "\n",
      "totalRemainingUnit 1\n",
      "currentLectureIndex  0 total lectures in current unit is  3\n",
      "100% Video Progress\n",
      "\n",
      "currentUnitIndex  1\n",
      "currentLectureIndex  0 total lectures in current unit is  4\n",
      "currentLectureIndex  1 total lectures in current unit is  4\n",
      "currentLectureIndex  2 total lectures in current unit is  4\n",
      "currentLectureIndex  3 total lectures in current unit is  4\n",
      "\n",
      "\n",
      "currentSubjectIndex  6\n",
      "\n",
      "totalRemainingUnit 3\n",
      "currentLectureIndex  0 total lectures in current unit is  4\n",
      "currentLectureIndex  1 total lectures in current unit is  4\n",
      "currentLectureIndex  2 total lectures in current unit is  4\n",
      "currentLectureIndex  3 total lectures in current unit is  4\n",
      "\n",
      "currentUnitIndex  1\n",
      "currentLectureIndex  0 total lectures in current unit is  2\n",
      "currentLectureIndex  1 total lectures in current unit is  2\n",
      "\n",
      "currentUnitIndex  2\n",
      "currentLectureIndex  0 total lectures in current unit is  4\n",
      "currentLectureIndex  1 total lectures in current unit is  4\n",
      "currentLectureIndex  2 total lectures in current unit is  4\n",
      "currentLectureIndex  3 total lectures in current unit is  4\n",
      "\n",
      "currentUnitIndex  3\n",
      "currentLectureIndex  0 total lectures in current unit is  3\n",
      "currentLectureIndex  1 total lectures in current unit is  3\n",
      "currentLectureIndex  2 total lectures in current unit is  3\n",
      "\n",
      "All Good :D\n"
     ]
    }
   ],
   "source": [
    "for currentSubjectIndex in range(totalSubjects):\n",
    "    print(\"\\n\\ncurrentSubjectIndex \", currentSubjectIndex)\n",
    "    # click find and click on currentSubjectCard\n",
    "    allSubjects = driver.find_element(By.ID, \"crprogress\").find_elements(By.CLASS_NAME, \"prog-card\")\n",
    "    allSubjects[currentSubjectIndex].find_element(By.TAG_NAME, 'a').click()\n",
    "    \n",
    "    totalRemainingUnits = driver.find_element(By.CLASS_NAME, \"unit\").find_elements(By.CLASS_NAME, \"collapse\").__len__()\n",
    "    print(\"\\ntotalRemainingUnit\", totalRemainingUnits)\n",
    "    \n",
    "    # wait for load videoli inside inPlay div to play all lectures inside inPlay div\n",
    "    WebDriverWait(driver, 30).until(lambda driver: expected_conditions.presence_of_element_located((By.CLASS_NAME, \"videoli\"))(driver.find_element(By.CLASS_NAME, \"inPlay\"))) \n",
    "    lectureHandler(True) # pass True because here we just want to play all lectures inside inPlay div\n",
    "    \n",
    "    currentRemainingUnitIndex = 1\n",
    "    while currentRemainingUnitIndex <= totalRemainingUnits:\n",
    "        print(\"\\ncurrentUnitIndex \", currentRemainingUnitIndex)\n",
    "        # get current unit title element and wait for element to be clickable\n",
    "        currentUnitTitle = driver.find_element(By.CLASS_NAME, \"unit\").find_element(By.CLASS_NAME, \"lecture-title\")\n",
    "        WebDriverWait(driver, 10).until(expected_conditions.element_to_be_clickable(currentUnitTitle))\n",
    "        \n",
    "        currentUnitTitle.click() # click title element and wait for load lectures inside that unit's collapsed div\n",
    "        WebDriverWait(driver, 30).until(lambda driver: expected_conditions.presence_of_element_located((By.CLASS_NAME, \"videoli\"))(currentUnitTitle.find_element(By.XPATH, \"./following-sibling::div\")))\n",
    "        \n",
    "        try:\n",
    "           lectureHandler()\n",
    "        except Exception as e:\n",
    "            if e.args[0] == \"Lectures not loaded\":\n",
    "                print(e, \" in current unit on first try so wait trying again\")\n",
    "                WebDriverWait(driver, 30).until(lambda driver: expected_conditions.presence_of_element_located((By.CLASS_NAME, \"videoli\"))(currentUnitTitle.find_element(By.XPATH, \"./following-sibling::div\")))\n",
    "                try:\n",
    "                    lectureHandler()\n",
    "                except Exception as e:\n",
    "                    print(e, \" on second try. In\", currentUnitTitle.find_element(By.CLASS_NAME, \"col-4\").text)\n",
    "        # increment currentRemainingUnitIndex to go on next unit\n",
    "        currentRemainingUnitIndex = currentRemainingUnitIndex + 1\n",
    "        \n",
    "    # goto home page when script completely go through all lectures\n",
    "    driver.back()\n",
    "\n",
    "print(\"\\nAll Good :D\") # print all good when script executed without any unexpected error"
   ]
  }
 ],
 "metadata": {
  "kernelspec": {
   "display_name": "Python 3 (ipykernel)",
   "language": "python",
   "name": "python3"
  },
  "language_info": {
   "codemirror_mode": {
    "name": "ipython",
    "version": 3
   },
   "file_extension": ".py",
   "mimetype": "text/x-python",
   "name": "python",
   "nbconvert_exporter": "python",
   "pygments_lexer": "ipython3",
   "version": "3.11.7"
  }
 },
 "nbformat": 4,
 "nbformat_minor": 2
}
