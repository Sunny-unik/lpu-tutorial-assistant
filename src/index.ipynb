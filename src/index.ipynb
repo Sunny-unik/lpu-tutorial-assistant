{
 "cells": [
  {
   "cell_type": "code",
   "execution_count": 20,
   "metadata": {},
   "outputs": [],
   "source": [
    "#Import Packages\n",
    "from selenium import webdriver\n",
    "from selenium.webdriver.common.by import By\n",
    "from dotenv import load_dotenv\n",
    "from selenium.webdriver.support.ui import WebDriverWait\n",
    "from selenium.webdriver.support import expected_conditions\n",
    "import os\n",
    "import time"
   ]
  },
  {
   "cell_type": "code",
   "execution_count": 21,
   "metadata": {},
   "outputs": [],
   "source": [
    "dashboardUrl = \"https://lms.lpuonline.com/\""
   ]
  },
  {
   "cell_type": "code",
   "execution_count": 22,
   "metadata": {},
   "outputs": [],
   "source": [
    "#Load the web driver and get the url\n",
    "driver = webdriver.Chrome()\n",
    "driver.implicitly_wait(10)\n",
    "driver.get(dashboardUrl)"
   ]
  },
  {
   "cell_type": "code",
   "execution_count": 23,
   "metadata": {},
   "outputs": [
    {
     "name": "stdout",
     "output_type": "stream",
     "text": [
      "<class 'str'> <class 'str'>\n"
     ]
    }
   ],
   "source": [
    "load_dotenv()\n",
    "username = os.environ.get(\"registrationId\")\n",
    "password = os.environ.get(\"password\")\n",
    "print(type(username), type(password))"
   ]
  },
  {
   "cell_type": "code",
   "execution_count": 24,
   "metadata": {},
   "outputs": [],
   "source": [
    "usernameInput = driver.find_element(By.ID, \"username\")\n",
    "passwordInput = driver.find_element(By.ID, \"Password\")\n",
    "loginButton = driver.find_element(By.ID, \"LoginButton\")"
   ]
  },
  {
   "cell_type": "code",
   "execution_count": 25,
   "metadata": {},
   "outputs": [],
   "source": [
    "usernameInput.send_keys(username)\n",
    "passwordInput.send_keys(password)\n",
    "loginButton.click()"
   ]
  },
  {
   "cell_type": "code",
   "execution_count": 26,
   "metadata": {},
   "outputs": [],
   "source": [
    "totalSubjects = driver.find_element(By.ID, \"crprogress\").find_elements(By.CLASS_NAME, \"prog-card\").__len__()"
   ]
  },
  {
   "cell_type": "code",
   "execution_count": 27,
   "metadata": {},
   "outputs": [],
   "source": [
    "def lectureHandler(inPlay = False):\n",
    "    totalLectures = (driver.find_element(By.CLASS_NAME, \"inPlay\") if inPlay else driver.find_element(By.CLASS_NAME, \"unit\").find_element(By.CLASS_NAME, \"collapse\")).find_elements(By.CLASS_NAME, \"videoli\").__len__()\n",
    "    if totalLectures == 0:\n",
    "        raise Exception(\"Lectures not loaded\")\n",
    "    for currentLectureIndex in range(totalLectures):\n",
    "        print(\"currentLectureIndex \", currentLectureIndex, \"total lectures in current unit is \", totalLectures)\n",
    "        try:\n",
    "            nextLecture =  (driver.find_element(By.CLASS_NAME, \"inPlay\") if inPlay else driver.find_element(By.CLASS_NAME, \"unit\").find_element(By.CLASS_NAME, \"collapse\")).find_elements(By.CLASS_NAME, \"videoli\")[currentLectureIndex]\n",
    "        except: \n",
    "            nextLecture = driver.find_element(By.CLASS_NAME, \"inPlay\").find_elements(By.CLASS_NAME, \"videoli\")[currentLectureIndex]\n",
    "        nextLecture.find_element(By.CLASS_NAME, \"cc-a\").click()\n",
    "        time.sleep(5)\n",
    "        driver.execute_script(open(\"./videoHandler.js\").read())\n",
    "        time.sleep(10)"
   ]
  },
  {
   "cell_type": "code",
   "execution_count": 28,
   "metadata": {},
   "outputs": [
    {
     "name": "stdout",
     "output_type": "stream",
     "text": [
      "\n",
      "\n",
      "currentSubjectIndex  0\n",
      "\n",
      "currentUnitIndex  0 totalRemainingUnit 0\n",
      "currentLectureIndex  0 total lectures in current unit is  3\n",
      "currentLectureIndex  1 total lectures in current unit is  3\n",
      "currentLectureIndex  2 total lectures in current unit is  3\n",
      "\n",
      "\n",
      "currentSubjectIndex  1\n",
      "\n",
      "currentUnitIndex  0 totalRemainingUnit 0\n",
      "currentLectureIndex  0 total lectures in current unit is  1\n",
      "\n",
      "\n",
      "currentSubjectIndex  2\n",
      "\n",
      "currentUnitIndex  0 totalRemainingUnit 0\n",
      "currentLectureIndex  0 total lectures in current unit is  2\n",
      "currentLectureIndex  1 total lectures in current unit is  2\n",
      "\n",
      "\n",
      "currentSubjectIndex  3\n",
      "\n",
      "currentUnitIndex  0 totalRemainingUnit 0\n",
      "currentLectureIndex  0 total lectures in current unit is  10\n",
      "currentLectureIndex  1 total lectures in current unit is  10\n",
      "currentLectureIndex  2 total lectures in current unit is  10\n",
      "currentLectureIndex  3 total lectures in current unit is  10\n",
      "currentLectureIndex  4 total lectures in current unit is  10\n",
      "currentLectureIndex  5 total lectures in current unit is  10\n",
      "currentLectureIndex  6 total lectures in current unit is  10\n",
      "currentLectureIndex  7 total lectures in current unit is  10\n",
      "currentLectureIndex  8 total lectures in current unit is  10\n",
      "currentLectureIndex  9 total lectures in current unit is  10\n",
      "\n",
      "\n",
      "currentSubjectIndex  4\n",
      "\n",
      "currentUnitIndex  0 totalRemainingUnit 0\n",
      "currentLectureIndex  0 total lectures in current unit is  1\n",
      "\n",
      "\n",
      "currentSubjectIndex  5\n",
      "\n",
      "currentUnitIndex  0 totalRemainingUnit 3\n",
      "currentLectureIndex  0 total lectures in current unit is  4\n",
      "currentLectureIndex  1 total lectures in current unit is  4\n",
      "currentLectureIndex  2 total lectures in current unit is  4\n",
      "currentLectureIndex  3 total lectures in current unit is  4\n",
      "\n",
      "currentUnitIndex  1\n",
      "\n",
      "currentUnitIndex  2\n",
      "\n",
      "currentUnitIndex  3\n",
      "\n",
      "\n",
      "currentSubjectIndex  6\n",
      "\n",
      "currentUnitIndex  0 totalRemainingUnit 13\n",
      "currentLectureIndex  0 total lectures in current unit is  6\n",
      "currentLectureIndex  1 total lectures in current unit is  6\n",
      "currentLectureIndex  2 total lectures in current unit is  6\n",
      "currentLectureIndex  3 total lectures in current unit is  6\n",
      "currentLectureIndex  4 total lectures in current unit is  6\n",
      "currentLectureIndex  5 total lectures in current unit is  6\n",
      "\n",
      "currentUnitIndex  1\n",
      "\n",
      "currentUnitIndex  2\n",
      "\n",
      "currentUnitIndex  3\n",
      "\n",
      "currentUnitIndex  4\n",
      "\n",
      "currentUnitIndex  5\n",
      "\n",
      "currentUnitIndex  6\n",
      "\n",
      "currentUnitIndex  7\n",
      "\n",
      "currentUnitIndex  8\n",
      "\n",
      "currentUnitIndex  9\n",
      "\n",
      "currentUnitIndex  10\n",
      "\n",
      "currentUnitIndex  11\n",
      "\n",
      "currentUnitIndex  12\n",
      "\n",
      "currentUnitIndex  13\n"
     ]
    },
    {
     "ename": "ElementClickInterceptedException",
     "evalue": "Message: element click intercepted: Element <div id=\"lecture-title_2\" class=\"lecture-title collapsed\" data-toggle=\"collapse\" href=\"#collapse2\" aria-expanded=\"false\">...</div> is not clickable at point (1193, 28). Other element would receive the click: <div class=\"col-md-12 text-center topresmobi\">...</div>\n  (Session info: chrome=121.0.6167.86)\nStacktrace:\n\tGetHandleVerifier [0x00007FF700205E42+3538674]\n\t(No symbol) [0x00007FF6FFE24C02]\n\t(No symbol) [0x00007FF6FFCD5AEB]\n\t(No symbol) [0x00007FF6FFD233E4]\n\t(No symbol) [0x00007FF6FFD21122]\n\t(No symbol) [0x00007FF6FFD1E884]\n\t(No symbol) [0x00007FF6FFD1D5A9]\n\t(No symbol) [0x00007FF6FFD11950]\n\t(No symbol) [0x00007FF6FFD3F0AA]\n\t(No symbol) [0x00007FF6FFD1124A]\n\t(No symbol) [0x00007FF6FFD3F2C0]\n\t(No symbol) [0x00007FF6FFD5BDE3]\n\t(No symbol) [0x00007FF6FFD3EE53]\n\t(No symbol) [0x00007FF6FFD0F514]\n\t(No symbol) [0x00007FF6FFD10631]\n\tGetHandleVerifier [0x00007FF700236CAD+3738973]\n\tGetHandleVerifier [0x00007FF70028C506+4089270]\n\tGetHandleVerifier [0x00007FF700284823+4057299]\n\tGetHandleVerifier [0x00007FF6FFF55C49+720121]\n\t(No symbol) [0x00007FF6FFE3126F]\n\t(No symbol) [0x00007FF6FFE2C304]\n\t(No symbol) [0x00007FF6FFE2C432]\n\t(No symbol) [0x00007FF6FFE1BD04]\n\tBaseThreadInitThunk [0x00007FFAAD4F257D+29]\n\tRtlUserThreadStart [0x00007FFAAE74AA58+40]\n",
     "output_type": "error",
     "traceback": [
      "\u001b[1;31m---------------------------------------------------------------------------\u001b[0m",
      "\u001b[1;31mElementClickInterceptedException\u001b[0m          Traceback (most recent call last)",
      "Cell \u001b[1;32mIn[28], line 18\u001b[0m\n\u001b[0;32m     16\u001b[0m currentUnitTitle \u001b[38;5;241m=\u001b[39m driver\u001b[38;5;241m.\u001b[39mfind_element(By\u001b[38;5;241m.\u001b[39mCLASS_NAME, \u001b[38;5;124m\"\u001b[39m\u001b[38;5;124munit\u001b[39m\u001b[38;5;124m\"\u001b[39m)\u001b[38;5;241m.\u001b[39mfind_element(By\u001b[38;5;241m.\u001b[39mCLASS_NAME, \u001b[38;5;124m\"\u001b[39m\u001b[38;5;124mlecture-title\u001b[39m\u001b[38;5;124m\"\u001b[39m)\n\u001b[0;32m     17\u001b[0m WebDriverWait(driver, \u001b[38;5;241m10\u001b[39m)\u001b[38;5;241m.\u001b[39muntil(expected_conditions\u001b[38;5;241m.\u001b[39melement_to_be_clickable(currentUnitTitle))\n\u001b[1;32m---> 18\u001b[0m \u001b[43mcurrentUnitTitle\u001b[49m\u001b[38;5;241;43m.\u001b[39;49m\u001b[43mclick\u001b[49m\u001b[43m(\u001b[49m\u001b[43m)\u001b[49m\n\u001b[0;32m     19\u001b[0m WebDriverWait(driver, \u001b[38;5;241m20\u001b[39m)\u001b[38;5;241m.\u001b[39muntil(\u001b[38;5;28;01mlambda\u001b[39;00m driver: expected_conditions\u001b[38;5;241m.\u001b[39mpresence_of_element_located((By\u001b[38;5;241m.\u001b[39mCLASS_NAME, \u001b[38;5;124m\"\u001b[39m\u001b[38;5;124mvideoli\u001b[39m\u001b[38;5;124m\"\u001b[39m))(currentUnitTitle\u001b[38;5;241m.\u001b[39mfind_element(By\u001b[38;5;241m.\u001b[39mXPATH, \u001b[38;5;124m\"\u001b[39m\u001b[38;5;124m./following-sibling::div\u001b[39m\u001b[38;5;124m\"\u001b[39m)))\n\u001b[0;32m     20\u001b[0m \u001b[38;5;28;01mtry\u001b[39;00m:\n",
      "File \u001b[1;32m~\\AppData\\Local\\Packages\\PythonSoftwareFoundation.Python.3.11_qbz5n2kfra8p0\\LocalCache\\local-packages\\Python311\\site-packages\\selenium\\webdriver\\remote\\webelement.py:94\u001b[0m, in \u001b[0;36mWebElement.click\u001b[1;34m(self)\u001b[0m\n\u001b[0;32m     92\u001b[0m \u001b[38;5;28;01mdef\u001b[39;00m \u001b[38;5;21mclick\u001b[39m(\u001b[38;5;28mself\u001b[39m) \u001b[38;5;241m-\u001b[39m\u001b[38;5;241m>\u001b[39m \u001b[38;5;28;01mNone\u001b[39;00m:\n\u001b[0;32m     93\u001b[0m \u001b[38;5;250m    \u001b[39m\u001b[38;5;124;03m\"\"\"Clicks the element.\"\"\"\u001b[39;00m\n\u001b[1;32m---> 94\u001b[0m     \u001b[38;5;28;43mself\u001b[39;49m\u001b[38;5;241;43m.\u001b[39;49m\u001b[43m_execute\u001b[49m\u001b[43m(\u001b[49m\u001b[43mCommand\u001b[49m\u001b[38;5;241;43m.\u001b[39;49m\u001b[43mCLICK_ELEMENT\u001b[49m\u001b[43m)\u001b[49m\n",
      "File \u001b[1;32m~\\AppData\\Local\\Packages\\PythonSoftwareFoundation.Python.3.11_qbz5n2kfra8p0\\LocalCache\\local-packages\\Python311\\site-packages\\selenium\\webdriver\\remote\\webelement.py:395\u001b[0m, in \u001b[0;36mWebElement._execute\u001b[1;34m(self, command, params)\u001b[0m\n\u001b[0;32m    393\u001b[0m     params \u001b[38;5;241m=\u001b[39m {}\n\u001b[0;32m    394\u001b[0m params[\u001b[38;5;124m\"\u001b[39m\u001b[38;5;124mid\u001b[39m\u001b[38;5;124m\"\u001b[39m] \u001b[38;5;241m=\u001b[39m \u001b[38;5;28mself\u001b[39m\u001b[38;5;241m.\u001b[39m_id\n\u001b[1;32m--> 395\u001b[0m \u001b[38;5;28;01mreturn\u001b[39;00m \u001b[38;5;28;43mself\u001b[39;49m\u001b[38;5;241;43m.\u001b[39;49m\u001b[43m_parent\u001b[49m\u001b[38;5;241;43m.\u001b[39;49m\u001b[43mexecute\u001b[49m\u001b[43m(\u001b[49m\u001b[43mcommand\u001b[49m\u001b[43m,\u001b[49m\u001b[43m \u001b[49m\u001b[43mparams\u001b[49m\u001b[43m)\u001b[49m\n",
      "File \u001b[1;32m~\\AppData\\Local\\Packages\\PythonSoftwareFoundation.Python.3.11_qbz5n2kfra8p0\\LocalCache\\local-packages\\Python311\\site-packages\\selenium\\webdriver\\remote\\webdriver.py:348\u001b[0m, in \u001b[0;36mWebDriver.execute\u001b[1;34m(self, driver_command, params)\u001b[0m\n\u001b[0;32m    346\u001b[0m response \u001b[38;5;241m=\u001b[39m \u001b[38;5;28mself\u001b[39m\u001b[38;5;241m.\u001b[39mcommand_executor\u001b[38;5;241m.\u001b[39mexecute(driver_command, params)\n\u001b[0;32m    347\u001b[0m \u001b[38;5;28;01mif\u001b[39;00m response:\n\u001b[1;32m--> 348\u001b[0m     \u001b[38;5;28;43mself\u001b[39;49m\u001b[38;5;241;43m.\u001b[39;49m\u001b[43merror_handler\u001b[49m\u001b[38;5;241;43m.\u001b[39;49m\u001b[43mcheck_response\u001b[49m\u001b[43m(\u001b[49m\u001b[43mresponse\u001b[49m\u001b[43m)\u001b[49m\n\u001b[0;32m    349\u001b[0m     response[\u001b[38;5;124m\"\u001b[39m\u001b[38;5;124mvalue\u001b[39m\u001b[38;5;124m\"\u001b[39m] \u001b[38;5;241m=\u001b[39m \u001b[38;5;28mself\u001b[39m\u001b[38;5;241m.\u001b[39m_unwrap_value(response\u001b[38;5;241m.\u001b[39mget(\u001b[38;5;124m\"\u001b[39m\u001b[38;5;124mvalue\u001b[39m\u001b[38;5;124m\"\u001b[39m, \u001b[38;5;28;01mNone\u001b[39;00m))\n\u001b[0;32m    350\u001b[0m     \u001b[38;5;28;01mreturn\u001b[39;00m response\n",
      "File \u001b[1;32m~\\AppData\\Local\\Packages\\PythonSoftwareFoundation.Python.3.11_qbz5n2kfra8p0\\LocalCache\\local-packages\\Python311\\site-packages\\selenium\\webdriver\\remote\\errorhandler.py:229\u001b[0m, in \u001b[0;36mErrorHandler.check_response\u001b[1;34m(self, response)\u001b[0m\n\u001b[0;32m    227\u001b[0m         alert_text \u001b[38;5;241m=\u001b[39m value[\u001b[38;5;124m\"\u001b[39m\u001b[38;5;124malert\u001b[39m\u001b[38;5;124m\"\u001b[39m]\u001b[38;5;241m.\u001b[39mget(\u001b[38;5;124m\"\u001b[39m\u001b[38;5;124mtext\u001b[39m\u001b[38;5;124m\"\u001b[39m)\n\u001b[0;32m    228\u001b[0m     \u001b[38;5;28;01mraise\u001b[39;00m exception_class(message, screen, stacktrace, alert_text)  \u001b[38;5;66;03m# type: ignore[call-arg]  # mypy is not smart enough here\u001b[39;00m\n\u001b[1;32m--> 229\u001b[0m \u001b[38;5;28;01mraise\u001b[39;00m exception_class(message, screen, stacktrace)\n",
      "\u001b[1;31mElementClickInterceptedException\u001b[0m: Message: element click intercepted: Element <div id=\"lecture-title_2\" class=\"lecture-title collapsed\" data-toggle=\"collapse\" href=\"#collapse2\" aria-expanded=\"false\">...</div> is not clickable at point (1193, 28). Other element would receive the click: <div class=\"col-md-12 text-center topresmobi\">...</div>\n  (Session info: chrome=121.0.6167.86)\nStacktrace:\n\tGetHandleVerifier [0x00007FF700205E42+3538674]\n\t(No symbol) [0x00007FF6FFE24C02]\n\t(No symbol) [0x00007FF6FFCD5AEB]\n\t(No symbol) [0x00007FF6FFD233E4]\n\t(No symbol) [0x00007FF6FFD21122]\n\t(No symbol) [0x00007FF6FFD1E884]\n\t(No symbol) [0x00007FF6FFD1D5A9]\n\t(No symbol) [0x00007FF6FFD11950]\n\t(No symbol) [0x00007FF6FFD3F0AA]\n\t(No symbol) [0x00007FF6FFD1124A]\n\t(No symbol) [0x00007FF6FFD3F2C0]\n\t(No symbol) [0x00007FF6FFD5BDE3]\n\t(No symbol) [0x00007FF6FFD3EE53]\n\t(No symbol) [0x00007FF6FFD0F514]\n\t(No symbol) [0x00007FF6FFD10631]\n\tGetHandleVerifier [0x00007FF700236CAD+3738973]\n\tGetHandleVerifier [0x00007FF70028C506+4089270]\n\tGetHandleVerifier [0x00007FF700284823+4057299]\n\tGetHandleVerifier [0x00007FF6FFF55C49+720121]\n\t(No symbol) [0x00007FF6FFE3126F]\n\t(No symbol) [0x00007FF6FFE2C304]\n\t(No symbol) [0x00007FF6FFE2C432]\n\t(No symbol) [0x00007FF6FFE1BD04]\n\tBaseThreadInitThunk [0x00007FFAAD4F257D+29]\n\tRtlUserThreadStart [0x00007FFAAE74AA58+40]\n"
     ]
    }
   ],
   "source": [
    "for currentSubjectIndex in range(totalSubjects):\n",
    "    print(\"\\n\\ncurrentSubjectIndex \", currentSubjectIndex)\n",
    "    allSubjects = driver.find_element(By.ID, \"crprogress\").find_elements(By.CLASS_NAME, \"prog-card\")\n",
    "    allSubjects[currentSubjectIndex].find_element(By.TAG_NAME, 'a').click()\n",
    "    totalRemainingUnits = driver.find_element(By.CLASS_NAME, \"unit\").find_elements(By.CLASS_NAME, \"collapse\").__len__()\n",
    "    print(\"\\ntotalRemainingUnit\", totalRemainingUnits)\n",
    "    try:\n",
    "        lectureHandler(True)\n",
    "    except:\n",
    "        time.sleep(20)\n",
    "        lectureHandler(True)\n",
    "    currentRemainingUnitIndex = 1\n",
    "    while currentRemainingUnitIndex < totalRemainingUnits:\n",
    "        currentRemainingUnitIndex = currentRemainingUnitIndex + 1\n",
    "        print(\"\\ncurrentUnitIndex \", currentRemainingUnitIndex)\n",
    "        currentUnitTitle = driver.find_element(By.CLASS_NAME, \"unit\").find_element(By.CLASS_NAME, \"lecture-title\")\n",
    "        WebDriverWait(driver, 10).until(expected_conditions.element_to_be_clickable(currentUnitTitle))\n",
    "        currentUnitTitle.click()\n",
    "        WebDriverWait(driver, 20).until(lambda driver: expected_conditions.presence_of_element_located((By.CLASS_NAME, \"videoli\"))(currentUnitTitle.find_element(By.XPATH, \"./following-sibling::div\")))\n",
    "        try:\n",
    "           lectureHandler()\n",
    "        except Exception as e:\n",
    "            if e == \"Lectures not loaded\":\n",
    "                driver.find_element(By.CLASS_NAME, \"unit\").find_element(By.CLASS_NAME, \"lecture-title\").click()\n",
    "                time.sleep(5)\n",
    "                lectureHandler()\n",
    "    driver.back()\n",
    "print(\"All Good :D\")"
   ]
  }
 ],
 "metadata": {
  "kernelspec": {
   "display_name": "Python 3 (ipykernel)",
   "language": "python",
   "name": "python3"
  },
  "language_info": {
   "codemirror_mode": {
    "name": "ipython",
    "version": 3
   },
   "file_extension": ".py",
   "mimetype": "text/x-python",
   "name": "python",
   "nbconvert_exporter": "python",
   "pygments_lexer": "ipython3",
   "version": "3.11.7"
  }
 },
 "nbformat": 4,
 "nbformat_minor": 2
}
