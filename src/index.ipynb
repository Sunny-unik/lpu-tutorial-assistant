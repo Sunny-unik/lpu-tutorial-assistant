{
 "cells": [
  {
   "cell_type": "code",
   "execution_count": 199,
   "metadata": {},
   "outputs": [],
   "source": [
    "#Import Packages\n",
    "from selenium import webdriver\n",
    "from selenium.webdriver.common.by import By\n",
    "from dotenv import load_dotenv\n",
    "import os\n",
    "import time"
   ]
  },
  {
   "cell_type": "code",
   "execution_count": 200,
   "metadata": {},
   "outputs": [],
   "source": [
    "dashboardUrl = \"https://lms.lpuonline.com/\""
   ]
  },
  {
   "cell_type": "code",
   "execution_count": 201,
   "metadata": {},
   "outputs": [],
   "source": [
    "#Load the web driver and get the url\n",
    "driver = webdriver.Chrome()\n",
    "driver.implicitly_wait(10)\n",
    "driver.get(dashboardUrl)"
   ]
  },
  {
   "cell_type": "code",
   "execution_count": 202,
   "metadata": {},
   "outputs": [
    {
     "name": "stdout",
     "output_type": "stream",
     "text": [
      "<class 'str'> <class 'str'>\n"
     ]
    }
   ],
   "source": [
    "load_dotenv()\n",
    "username = os.environ.get(\"registrationId\")\n",
    "password = os.environ.get(\"password\")\n",
    "print(type(username), type(password))"
   ]
  },
  {
   "cell_type": "code",
   "execution_count": 203,
   "metadata": {},
   "outputs": [],
   "source": [
    "usernameInput = driver.find_element(By.ID, \"username\")\n",
    "passwordInput = driver.find_element(By.ID, \"Password\")\n",
    "loginButton = driver.find_element(By.ID, \"LoginButton\")"
   ]
  },
  {
   "cell_type": "code",
   "execution_count": 204,
   "metadata": {},
   "outputs": [],
   "source": [
    "usernameInput.send_keys(username)\n",
    "passwordInput.send_keys(password)\n",
    "loginButton.click()"
   ]
  },
  {
   "cell_type": "code",
   "execution_count": 205,
   "metadata": {},
   "outputs": [],
   "source": [
    "totalSubjects = driver.find_element(By.ID, \"crprogress\").find_elements(By.CLASS_NAME, \"prog-card\").__len__()"
   ]
  },
  {
   "cell_type": "code",
   "execution_count": 206,
   "metadata": {},
   "outputs": [],
   "source": [
    "def lectureHandler(inPlay = False):\n",
    "    lectures = (driver.find_element(By.CLASS_NAME, \"inPlay\") if inPlay else driver.find_element(By.CLASS_NAME, \"unit\").find_element(By.CLASS_NAME, \"collapse\")).find_elements(By.CLASS_NAME, \"videoli\")\n",
    "    for nextLectureIndex in range(lectures.__len__()):\n",
    "        print(\"nextLectureIndex \", nextLectureIndex, lectures.__len__())\n",
    "        try:\n",
    "            nextLecture =  (driver.find_element(By.CLASS_NAME, \"inPlay\") if inPlay else driver.find_element(By.CLASS_NAME, \"unit\").find_element(By.CLASS_NAME, \"collapse\")).find_elements(By.CLASS_NAME, \"videoli\")[nextLectureIndex]\n",
    "        except: \n",
    "            nextLecture = driver.find_element(By.CLASS_NAME, \"inPlay\").find_elements(By.CLASS_NAME, \"videoli\")[nextLectureIndex]\n",
    "        nextLecture.find_element(By.CLASS_NAME, \"cc-a\").click()\n",
    "        time.sleep(5)\n",
    "        driver.execute_script(open(\"./videoHandler.js\").read())\n",
    "        time.sleep(10)"
   ]
  },
  {
   "cell_type": "code",
   "execution_count": 207,
   "metadata": {},
   "outputs": [
    {
     "name": "stdout",
     "output_type": "stream",
     "text": [
      "nextLectureIndex  0 3\n",
      "nextLectureIndex  1 3\n",
      "nextLectureIndex  2 3\n",
      "nextLectureIndex  0 1\n",
      "nextLectureIndex  0 2\n",
      "nextLectureIndex  1 2\n",
      "nextLectureIndex  0 2\n",
      "nextLectureIndex  1 2\n",
      "nextUnitIndex  0\n",
      "nextLectureIndex  0 1\n",
      "nextUnitIndex  1\n",
      "nextLectureIndex  0 4\n",
      "nextLectureIndex  1 4\n",
      "nextLectureIndex  2 4\n",
      "nextLectureIndex  3 4\n",
      "nextUnitIndex  2\n",
      "nextLectureIndex  0 5\n",
      "nextLectureIndex  1 5\n",
      "nextLectureIndex  2 5\n",
      "nextLectureIndex  3 5\n",
      "nextLectureIndex  4 5\n",
      "nextUnitIndex  3\n",
      "nextLectureIndex  0 5\n",
      "nextLectureIndex  1 5\n",
      "nextLectureIndex  2 5\n",
      "nextLectureIndex  3 5\n",
      "nextLectureIndex  4 5\n",
      "nextUnitIndex  4\n",
      "nextLectureIndex  0 1\n",
      "nextUnitIndex  5\n",
      "nextLectureIndex  0 3\n",
      "nextLectureIndex  1 3\n",
      "nextLectureIndex  2 3\n",
      "nextUnitIndex  6\n",
      "nextLectureIndex  0 2\n",
      "nextLectureIndex  1 2\n",
      "nextUnitIndex  7\n",
      "nextLectureIndex  0 2\n",
      "nextLectureIndex  1 2\n",
      "nextUnitIndex  8\n",
      "nextLectureIndex  0 2\n",
      "nextLectureIndex  1 2\n",
      "nextUnitIndex  9\n",
      "nextLectureIndex  0 2\n",
      "nextLectureIndex  1 2\n",
      "nextUnitIndex  10\n",
      "nextLectureIndex  0 2\n",
      "nextLectureIndex  1 2\n",
      "nextUnitIndex  11\n",
      "nextLectureIndex  0 2\n",
      "nextLectureIndex  1 2\n",
      "nextUnitIndex  12\n",
      "nextLectureIndex  0 2\n",
      "nextLectureIndex  1 2\n",
      "nextLectureIndex  0 4\n",
      "nextLectureIndex  1 4\n",
      "nextLectureIndex  2 4\n",
      "nextLectureIndex  3 4\n",
      "nextUnitIndex  0\n",
      "nextLectureIndex  0 3\n",
      "nextLectureIndex  1 3\n",
      "nextLectureIndex  2 3\n",
      "nextUnitIndex  1\n",
      "nextLectureIndex  0 5\n",
      "nextLectureIndex  1 5\n",
      "nextLectureIndex  2 5\n",
      "nextLectureIndex  3 5\n",
      "nextLectureIndex  4 5\n",
      "nextUnitIndex  2\n",
      "nextLectureIndex  0 2\n",
      "nextLectureIndex  1 2\n",
      "nextUnitIndex  3\n",
      "nextLectureIndex  0 3\n",
      "nextLectureIndex  1 3\n",
      "nextLectureIndex  2 3\n",
      "nextUnitIndex  4\n",
      "nextLectureIndex  0 2\n",
      "nextLectureIndex  1 2\n",
      "nextUnitIndex  5\n",
      "nextLectureIndex  0 2\n",
      "nextLectureIndex  1 2\n",
      "nextUnitIndex  6\n",
      "nextLectureIndex  0 3\n",
      "nextLectureIndex  1 3\n",
      "nextLectureIndex  2 3\n",
      "nextUnitIndex  7\n",
      "nextLectureIndex  0 2\n",
      "nextLectureIndex  1 2\n",
      "nextUnitIndex  8\n",
      "nextLectureIndex  0 4\n",
      "nextLectureIndex  1 4\n",
      "nextLectureIndex  2 4\n"
     ]
    },
    {
     "ename": "IndexError",
     "evalue": "list index out of range",
     "output_type": "error",
     "traceback": [
      "\u001b[1;31m---------------------------------------------------------------------------\u001b[0m",
      "\u001b[1;31mIndexError\u001b[0m                                Traceback (most recent call last)",
      "Cell \u001b[1;32mIn[206], line 6\u001b[0m, in \u001b[0;36mlectureHandler\u001b[1;34m(inPlay)\u001b[0m\n\u001b[0;32m      5\u001b[0m \u001b[38;5;28;01mtry\u001b[39;00m:\n\u001b[1;32m----> 6\u001b[0m     nextLecture \u001b[38;5;241m=\u001b[39m  \u001b[43m(\u001b[49m\u001b[43mdriver\u001b[49m\u001b[38;5;241;43m.\u001b[39;49m\u001b[43mfind_element\u001b[49m\u001b[43m(\u001b[49m\u001b[43mBy\u001b[49m\u001b[38;5;241;43m.\u001b[39;49m\u001b[43mCLASS_NAME\u001b[49m\u001b[43m,\u001b[49m\u001b[43m \u001b[49m\u001b[38;5;124;43m\"\u001b[39;49m\u001b[38;5;124;43minPlay\u001b[39;49m\u001b[38;5;124;43m\"\u001b[39;49m\u001b[43m)\u001b[49m\u001b[43m \u001b[49m\u001b[38;5;28;43;01mif\u001b[39;49;00m\u001b[43m \u001b[49m\u001b[43minPlay\u001b[49m\u001b[43m \u001b[49m\u001b[38;5;28;43;01melse\u001b[39;49;00m\u001b[43m \u001b[49m\u001b[43mdriver\u001b[49m\u001b[38;5;241;43m.\u001b[39;49m\u001b[43mfind_element\u001b[49m\u001b[43m(\u001b[49m\u001b[43mBy\u001b[49m\u001b[38;5;241;43m.\u001b[39;49m\u001b[43mCLASS_NAME\u001b[49m\u001b[43m,\u001b[49m\u001b[43m \u001b[49m\u001b[38;5;124;43m\"\u001b[39;49m\u001b[38;5;124;43munit\u001b[39;49m\u001b[38;5;124;43m\"\u001b[39;49m\u001b[43m)\u001b[49m\u001b[38;5;241;43m.\u001b[39;49m\u001b[43mfind_element\u001b[49m\u001b[43m(\u001b[49m\u001b[43mBy\u001b[49m\u001b[38;5;241;43m.\u001b[39;49m\u001b[43mCLASS_NAME\u001b[49m\u001b[43m,\u001b[49m\u001b[43m \u001b[49m\u001b[38;5;124;43m\"\u001b[39;49m\u001b[38;5;124;43mcollapse\u001b[39;49m\u001b[38;5;124;43m\"\u001b[39;49m\u001b[43m)\u001b[49m\u001b[43m)\u001b[49m\u001b[38;5;241;43m.\u001b[39;49m\u001b[43mfind_elements\u001b[49m\u001b[43m(\u001b[49m\u001b[43mBy\u001b[49m\u001b[38;5;241;43m.\u001b[39;49m\u001b[43mCLASS_NAME\u001b[49m\u001b[43m,\u001b[49m\u001b[43m \u001b[49m\u001b[38;5;124;43m\"\u001b[39;49m\u001b[38;5;124;43mvideoli\u001b[39;49m\u001b[38;5;124;43m\"\u001b[39;49m\u001b[43m)\u001b[49m\u001b[43m[\u001b[49m\u001b[43mnextLectureIndex\u001b[49m\u001b[43m]\u001b[49m\n\u001b[0;32m      7\u001b[0m \u001b[38;5;28;01mexcept\u001b[39;00m: \n",
      "\u001b[1;31mIndexError\u001b[0m: list index out of range",
      "\nDuring handling of the above exception, another exception occurred:\n",
      "\u001b[1;31mIndexError\u001b[0m                                Traceback (most recent call last)",
      "Cell \u001b[1;32mIn[207], line 11\u001b[0m\n\u001b[0;32m      9\u001b[0m     driver\u001b[38;5;241m.\u001b[39mfind_element(By\u001b[38;5;241m.\u001b[39mCLASS_NAME, \u001b[38;5;124m\"\u001b[39m\u001b[38;5;124munit\u001b[39m\u001b[38;5;124m\"\u001b[39m)\u001b[38;5;241m.\u001b[39mfind_element(By\u001b[38;5;241m.\u001b[39mCLASS_NAME, \u001b[38;5;124m\"\u001b[39m\u001b[38;5;124mlecture-title\u001b[39m\u001b[38;5;124m\"\u001b[39m)\u001b[38;5;241m.\u001b[39mclick()\n\u001b[0;32m     10\u001b[0m     time\u001b[38;5;241m.\u001b[39msleep(\u001b[38;5;241m5\u001b[39m)\n\u001b[1;32m---> 11\u001b[0m     \u001b[43mlectureHandler\u001b[49m\u001b[43m(\u001b[49m\u001b[43m)\u001b[49m\n\u001b[0;32m     12\u001b[0m     nextUnitIndex \u001b[38;5;241m=\u001b[39m nextUnitIndex \u001b[38;5;241m+\u001b[39m \u001b[38;5;241m1\u001b[39m\n\u001b[0;32m     13\u001b[0m driver\u001b[38;5;241m.\u001b[39mback()\n",
      "Cell \u001b[1;32mIn[206], line 8\u001b[0m, in \u001b[0;36mlectureHandler\u001b[1;34m(inPlay)\u001b[0m\n\u001b[0;32m      6\u001b[0m     nextLecture \u001b[38;5;241m=\u001b[39m  (driver\u001b[38;5;241m.\u001b[39mfind_element(By\u001b[38;5;241m.\u001b[39mCLASS_NAME, \u001b[38;5;124m\"\u001b[39m\u001b[38;5;124minPlay\u001b[39m\u001b[38;5;124m\"\u001b[39m) \u001b[38;5;28;01mif\u001b[39;00m inPlay \u001b[38;5;28;01melse\u001b[39;00m driver\u001b[38;5;241m.\u001b[39mfind_element(By\u001b[38;5;241m.\u001b[39mCLASS_NAME, \u001b[38;5;124m\"\u001b[39m\u001b[38;5;124munit\u001b[39m\u001b[38;5;124m\"\u001b[39m)\u001b[38;5;241m.\u001b[39mfind_element(By\u001b[38;5;241m.\u001b[39mCLASS_NAME, \u001b[38;5;124m\"\u001b[39m\u001b[38;5;124mcollapse\u001b[39m\u001b[38;5;124m\"\u001b[39m))\u001b[38;5;241m.\u001b[39mfind_elements(By\u001b[38;5;241m.\u001b[39mCLASS_NAME, \u001b[38;5;124m\"\u001b[39m\u001b[38;5;124mvideoli\u001b[39m\u001b[38;5;124m\"\u001b[39m)[nextLectureIndex]\n\u001b[0;32m      7\u001b[0m \u001b[38;5;28;01mexcept\u001b[39;00m: \n\u001b[1;32m----> 8\u001b[0m     nextLecture \u001b[38;5;241m=\u001b[39m \u001b[43mdriver\u001b[49m\u001b[38;5;241;43m.\u001b[39;49m\u001b[43mfind_element\u001b[49m\u001b[43m(\u001b[49m\u001b[43mBy\u001b[49m\u001b[38;5;241;43m.\u001b[39;49m\u001b[43mCLASS_NAME\u001b[49m\u001b[43m,\u001b[49m\u001b[43m \u001b[49m\u001b[38;5;124;43m\"\u001b[39;49m\u001b[38;5;124;43minPlay\u001b[39;49m\u001b[38;5;124;43m\"\u001b[39;49m\u001b[43m)\u001b[49m\u001b[38;5;241;43m.\u001b[39;49m\u001b[43mfind_elements\u001b[49m\u001b[43m(\u001b[49m\u001b[43mBy\u001b[49m\u001b[38;5;241;43m.\u001b[39;49m\u001b[43mCLASS_NAME\u001b[49m\u001b[43m,\u001b[49m\u001b[43m \u001b[49m\u001b[38;5;124;43m\"\u001b[39;49m\u001b[38;5;124;43mvideoli\u001b[39;49m\u001b[38;5;124;43m\"\u001b[39;49m\u001b[43m)\u001b[49m\u001b[43m[\u001b[49m\u001b[43mnextLectureIndex\u001b[49m\u001b[43m]\u001b[49m\n\u001b[0;32m      9\u001b[0m nextLecture\u001b[38;5;241m.\u001b[39mfind_element(By\u001b[38;5;241m.\u001b[39mCLASS_NAME, \u001b[38;5;124m\"\u001b[39m\u001b[38;5;124mcc-a\u001b[39m\u001b[38;5;124m\"\u001b[39m)\u001b[38;5;241m.\u001b[39mclick()\n\u001b[0;32m     10\u001b[0m time\u001b[38;5;241m.\u001b[39msleep(\u001b[38;5;241m5\u001b[39m)\n",
      "\u001b[1;31mIndexError\u001b[0m: list index out of range"
     ]
    }
   ],
   "source": [
    "for currentSubjectIndex in range(totalSubjects):\n",
    "    allSubjects = driver.find_element(By.ID, \"crprogress\").find_elements(By.CLASS_NAME, \"prog-card\")\n",
    "    allSubjects[currentSubjectIndex].find_element(By.TAG_NAME, 'a').click()\n",
    "    units = driver.find_element(By.CLASS_NAME, \"unit\").find_elements(By.CLASS_NAME, \"collapse\")\n",
    "    lectureHandler(True)\n",
    "    nextUnitIndex = 0\n",
    "    while nextUnitIndex < units.__len__():\n",
    "        print(\"nextUnitIndex \", nextUnitIndex)\n",
    "        driver.find_element(By.CLASS_NAME, \"unit\").find_element(By.CLASS_NAME, \"lecture-title\").click()\n",
    "        time.sleep(5)\n",
    "        lectureHandler()\n",
    "        nextUnitIndex = nextUnitIndex + 1\n",
    "    driver.back()\n",
    "print(\"All Good :D\")"
   ]
  }
 ],
 "metadata": {
  "kernelspec": {
   "display_name": "Python 3 (ipykernel)",
   "language": "python",
   "name": "python3"
  },
  "language_info": {
   "codemirror_mode": {
    "name": "ipython",
    "version": 3
   },
   "file_extension": ".py",
   "mimetype": "text/x-python",
   "name": "python",
   "nbconvert_exporter": "python",
   "pygments_lexer": "ipython3",
   "version": "3.11.7"
  }
 },
 "nbformat": 4,
 "nbformat_minor": 2
}
