{
 "cells": [
  {
   "cell_type": "code",
   "execution_count": 140,
   "metadata": {},
   "outputs": [],
   "source": [
    "#Import Packages\n",
    "from selenium import webdriver\n",
    "from selenium.webdriver.common.by import By\n",
    "from dotenv import load_dotenv\n",
    "import os\n",
    "import time"
   ]
  },
  {
   "cell_type": "code",
   "execution_count": 141,
   "metadata": {},
   "outputs": [],
   "source": [
    "dashboardUrl = \"https://lms.lpuonline.com/\""
   ]
  },
  {
   "cell_type": "code",
   "execution_count": 142,
   "metadata": {},
   "outputs": [],
   "source": [
    "#Load the web driver and get the url\n",
    "driver = webdriver.Chrome()\n",
    "driver.implicitly_wait(10)\n",
    "driver.get(dashboardUrl)"
   ]
  },
  {
   "cell_type": "code",
   "execution_count": 143,
   "metadata": {},
   "outputs": [
    {
     "name": "stdout",
     "output_type": "stream",
     "text": [
      "<class 'str'> <class 'str'>\n"
     ]
    }
   ],
   "source": [
    "load_dotenv()\n",
    "username = os.environ.get(\"registrationId\")\n",
    "password = os.environ.get(\"password\")\n",
    "print(type(username), type(password))"
   ]
  },
  {
   "cell_type": "code",
   "execution_count": 144,
   "metadata": {},
   "outputs": [],
   "source": [
    "usernameInput = driver.find_element(By.ID, \"username\")\n",
    "passwordInput = driver.find_element(By.ID, \"Password\")\n",
    "loginButton = driver.find_element(By.ID, \"LoginButton\")"
   ]
  },
  {
   "cell_type": "code",
   "execution_count": 145,
   "metadata": {},
   "outputs": [],
   "source": [
    "usernameInput.send_keys(username)\n",
    "passwordInput.send_keys(password)\n",
    "loginButton.click()"
   ]
  },
  {
   "cell_type": "code",
   "execution_count": 146,
   "metadata": {},
   "outputs": [
    {
     "name": "stdout",
     "output_type": "stream",
     "text": [
      "<selenium.webdriver.remote.webelement.WebElement (session=\"6c3a783180d355730b7f2293c007fe94\", element=\"35D764C16AD2653B065D78D61B67AD51_element_128\")> [<selenium.webdriver.remote.webelement.WebElement (session=\"6c3a783180d355730b7f2293c007fe94\", element=\"35D764C16AD2653B065D78D61B67AD51_element_134\")>, <selenium.webdriver.remote.webelement.WebElement (session=\"6c3a783180d355730b7f2293c007fe94\", element=\"35D764C16AD2653B065D78D61B67AD51_element_135\")>, <selenium.webdriver.remote.webelement.WebElement (session=\"6c3a783180d355730b7f2293c007fe94\", element=\"35D764C16AD2653B065D78D61B67AD51_element_136\")>, <selenium.webdriver.remote.webelement.WebElement (session=\"6c3a783180d355730b7f2293c007fe94\", element=\"35D764C16AD2653B065D78D61B67AD51_element_137\")>, <selenium.webdriver.remote.webelement.WebElement (session=\"6c3a783180d355730b7f2293c007fe94\", element=\"35D764C16AD2653B065D78D61B67AD51_element_138\")>, <selenium.webdriver.remote.webelement.WebElement (session=\"6c3a783180d355730b7f2293c007fe94\", element=\"35D764C16AD2653B065D78D61B67AD51_element_139\")>, <selenium.webdriver.remote.webelement.WebElement (session=\"6c3a783180d355730b7f2293c007fe94\", element=\"35D764C16AD2653B065D78D61B67AD51_element_140\")>]\n"
     ]
    }
   ],
   "source": [
    "tutorialsRow = driver.find_element(By.ID, \"crprogress\")\n",
    "tutorialCards = tutorialsRow.find_elements(By.CLASS_NAME, \"prog-card\")\n",
    "print(tutorialsRow, tutorialCards)"
   ]
  },
  {
   "cell_type": "code",
   "execution_count": 147,
   "metadata": {},
   "outputs": [],
   "source": [
    "def playerHandler():\n",
    "    driver.execute_script(open(\"./videoHandler.js\").read())\n",
    "    time.sleep(10)"
   ]
  },
  {
   "cell_type": "code",
   "execution_count": 148,
   "metadata": {},
   "outputs": [],
   "source": [
    "def lectureHandler(collapseIndex= None):\n",
    "    lectures = (driver.find_element(By.CLASS_NAME, \"inPlay\") if collapseIndex == None else driver.find_element(By.CLASS_NAME, \"unit\").find_elements(By.CLASS_NAME, \"collapse\")[int(collapseIndex)]).find_elements(By.CLASS_NAME, \"videoli\")\n",
    "    for nextLectureIndex in range(lectures.__len__()):\n",
    "        print(\"nextLectureIndex \", nextLectureIndex)\n",
    "        try:\n",
    "            nextLecture =  (driver.find_element(By.CLASS_NAME, \"inPlay\") if collapseIndex == None else driver.find_element(By.CLASS_NAME, \"unit\").find_elements(By.CLASS_NAME, \"collapse\")[int(collapseIndex)]).find_elements(By.CLASS_NAME, \"videoli\")[nextLectureIndex]\n",
    "        except: \n",
    "            nextLecture = driver.find_element(By.CLASS_NAME, \"inPlay\").find_elements(By.CLASS_NAME, \"videoli\")[nextLectureIndex]\n",
    "        nextLecture.find_element(By.CLASS_NAME, \"cc-a\").click()\n",
    "        time.sleep(10)\n",
    "        playerHandler()"
   ]
  },
  {
   "cell_type": "code",
   "execution_count": 149,
   "metadata": {},
   "outputs": [
    {
     "name": "stdout",
     "output_type": "stream",
     "text": [
      "nextLectureIndex  0\n",
      "nextLectureIndex  1\n",
      "nextLectureIndex  2\n",
      "nextLectureIndex  0\n",
      "nextLectureIndex  0\n",
      "nextLectureIndex  1\n",
      "nextUnitIndex  0\n",
      "nextLectureIndex  0\n",
      "nextLectureIndex  1\n",
      "nextLectureIndex  2\n",
      "nextUnitIndex  1\n",
      "nextLectureIndex  0\n",
      "nextLectureIndex  1\n",
      "nextLectureIndex  2\n",
      "nextUnitIndex  2\n",
      "nextLectureIndex  0\n"
     ]
    },
    {
     "ename": "KeyboardInterrupt",
     "evalue": "",
     "output_type": "error",
     "traceback": [
      "\u001b[1;31m---------------------------------------------------------------------------\u001b[0m",
      "\u001b[1;31mKeyboardInterrupt\u001b[0m                         Traceback (most recent call last)",
      "Cell \u001b[1;32mIn[149], line 10\u001b[0m\n\u001b[0;32m      8\u001b[0m     driver\u001b[38;5;241m.\u001b[39mfind_element(By\u001b[38;5;241m.\u001b[39mCLASS_NAME, \u001b[38;5;124m\"\u001b[39m\u001b[38;5;124munit\u001b[39m\u001b[38;5;124m\"\u001b[39m)\u001b[38;5;241m.\u001b[39mfind_elements(By\u001b[38;5;241m.\u001b[39mCLASS_NAME, \u001b[38;5;124m\"\u001b[39m\u001b[38;5;124mlecture-title\u001b[39m\u001b[38;5;124m\"\u001b[39m)[nextUnitIndex]\u001b[38;5;241m.\u001b[39mclick()\n\u001b[0;32m      9\u001b[0m     time\u001b[38;5;241m.\u001b[39msleep(\u001b[38;5;241m5\u001b[39m)\n\u001b[1;32m---> 10\u001b[0m     \u001b[43mlectureHandler\u001b[49m\u001b[43m(\u001b[49m\u001b[38;5;28;43mstr\u001b[39;49m\u001b[43m(\u001b[49m\u001b[43mnextUnitIndex\u001b[49m\u001b[43m)\u001b[49m\u001b[43m)\u001b[49m\n\u001b[0;32m     11\u001b[0m     nextUnitIndex \u001b[38;5;241m=\u001b[39m nextUnitIndex \u001b[38;5;241m+\u001b[39m \u001b[38;5;241m1\u001b[39m\n\u001b[0;32m     12\u001b[0m driver\u001b[38;5;241m.\u001b[39mback()\n",
      "Cell \u001b[1;32mIn[148], line 11\u001b[0m, in \u001b[0;36mlectureHandler\u001b[1;34m(collapseIndex)\u001b[0m\n\u001b[0;32m      9\u001b[0m nextLecture\u001b[38;5;241m.\u001b[39mfind_element(By\u001b[38;5;241m.\u001b[39mCLASS_NAME, \u001b[38;5;124m\"\u001b[39m\u001b[38;5;124mcc-a\u001b[39m\u001b[38;5;124m\"\u001b[39m)\u001b[38;5;241m.\u001b[39mclick()\n\u001b[0;32m     10\u001b[0m time\u001b[38;5;241m.\u001b[39msleep(\u001b[38;5;241m10\u001b[39m)\n\u001b[1;32m---> 11\u001b[0m \u001b[43mplayerHandler\u001b[49m\u001b[43m(\u001b[49m\u001b[43m)\u001b[49m\n",
      "Cell \u001b[1;32mIn[147], line 3\u001b[0m, in \u001b[0;36mplayerHandler\u001b[1;34m()\u001b[0m\n\u001b[0;32m      1\u001b[0m \u001b[38;5;28;01mdef\u001b[39;00m \u001b[38;5;21mplayerHandler\u001b[39m():\n\u001b[0;32m      2\u001b[0m     driver\u001b[38;5;241m.\u001b[39mexecute_script(\u001b[38;5;28mopen\u001b[39m(\u001b[38;5;124m\"\u001b[39m\u001b[38;5;124m./index.js\u001b[39m\u001b[38;5;124m\"\u001b[39m)\u001b[38;5;241m.\u001b[39mread())\n\u001b[1;32m----> 3\u001b[0m     time\u001b[38;5;241m.\u001b[39msleep(\u001b[38;5;241m10\u001b[39m)\n",
      "\u001b[1;31mKeyboardInterrupt\u001b[0m: "
     ]
    }
   ],
   "source": [
    "for currentTutorial in tutorialCards:\n",
    "    currentTutorial.find_element(By.TAG_NAME, 'a').click()\n",
    "    units = driver.find_element(By.CLASS_NAME, \"unit\").find_elements(By.CLASS_NAME, \"collapse\")\n",
    "    lectureHandler()\n",
    "    nextUnitIndex = 0\n",
    "    while nextUnitIndex < units.__len__():\n",
    "        print(\"nextUnitIndex \", nextUnitIndex)\n",
    "        driver.find_element(By.CLASS_NAME, \"unit\").find_elements(By.CLASS_NAME, \"lecture-title\")[nextUnitIndex].click()\n",
    "        time.sleep(5)\n",
    "        lectureHandler(str(nextUnitIndex))\n",
    "        nextUnitIndex = nextUnitIndex + 1\n",
    "    driver.back()"
   ]
  }
 ],
 "metadata": {
  "kernelspec": {
   "display_name": "Python 3 (ipykernel)",
   "language": "python",
   "name": "python3"
  },
  "language_info": {
   "codemirror_mode": {
    "name": "ipython",
    "version": 3
   },
   "file_extension": ".py",
   "mimetype": "text/x-python",
   "name": "python",
   "nbconvert_exporter": "python",
   "pygments_lexer": "ipython3",
   "version": "3.11.7"
  }
 },
 "nbformat": 4,
 "nbformat_minor": 2
}
