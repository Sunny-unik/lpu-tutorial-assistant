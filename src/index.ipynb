{
 "cells": [
  {
   "cell_type": "code",
   "execution_count": 275,
   "metadata": {},
   "outputs": [],
   "source": [
    "#Import Packages\n",
    "from selenium import webdriver\n",
    "from selenium.webdriver.common.by import By\n",
    "from dotenv import load_dotenv\n",
    "import os\n",
    "import time"
   ]
  },
  {
   "cell_type": "code",
   "execution_count": 276,
   "metadata": {},
   "outputs": [],
   "source": [
    "dashboardUrl = \"https://lms.lpuonline.com/\""
   ]
  },
  {
   "cell_type": "code",
   "execution_count": 277,
   "metadata": {},
   "outputs": [],
   "source": [
    "#Load the web driver and get the url\n",
    "driver = webdriver.Chrome()\n",
    "driver.implicitly_wait(10)\n",
    "driver.get(dashboardUrl)"
   ]
  },
  {
   "cell_type": "code",
   "execution_count": 278,
   "metadata": {},
   "outputs": [
    {
     "name": "stdout",
     "output_type": "stream",
     "text": [
      "<class 'str'> <class 'str'>\n"
     ]
    }
   ],
   "source": [
    "load_dotenv()\n",
    "username = os.environ.get(\"registrationId\")\n",
    "password = os.environ.get(\"password\")\n",
    "print(type(username), type(password))"
   ]
  },
  {
   "cell_type": "code",
   "execution_count": 279,
   "metadata": {},
   "outputs": [],
   "source": [
    "usernameInput = driver.find_element(By.ID, \"username\")\n",
    "passwordInput = driver.find_element(By.ID, \"Password\")\n",
    "loginButton = driver.find_element(By.ID, \"LoginButton\")"
   ]
  },
  {
   "cell_type": "code",
   "execution_count": 280,
   "metadata": {},
   "outputs": [],
   "source": [
    "usernameInput.send_keys(username)\n",
    "passwordInput.send_keys(password)\n",
    "loginButton.click()"
   ]
  },
  {
   "cell_type": "code",
   "execution_count": 281,
   "metadata": {},
   "outputs": [
    {
     "name": "stdout",
     "output_type": "stream",
     "text": [
      "<selenium.webdriver.remote.webelement.WebElement (session=\"eded64d18fd2a98191830194d1a0a498\", element=\"43CE020A3322E1B3E2C5BBA0F007514E_element_89\")> [<selenium.webdriver.remote.webelement.WebElement (session=\"eded64d18fd2a98191830194d1a0a498\", element=\"43CE020A3322E1B3E2C5BBA0F007514E_element_102\")>, <selenium.webdriver.remote.webelement.WebElement (session=\"eded64d18fd2a98191830194d1a0a498\", element=\"43CE020A3322E1B3E2C5BBA0F007514E_element_103\")>, <selenium.webdriver.remote.webelement.WebElement (session=\"eded64d18fd2a98191830194d1a0a498\", element=\"43CE020A3322E1B3E2C5BBA0F007514E_element_104\")>, <selenium.webdriver.remote.webelement.WebElement (session=\"eded64d18fd2a98191830194d1a0a498\", element=\"43CE020A3322E1B3E2C5BBA0F007514E_element_105\")>, <selenium.webdriver.remote.webelement.WebElement (session=\"eded64d18fd2a98191830194d1a0a498\", element=\"43CE020A3322E1B3E2C5BBA0F007514E_element_106\")>, <selenium.webdriver.remote.webelement.WebElement (session=\"eded64d18fd2a98191830194d1a0a498\", element=\"43CE020A3322E1B3E2C5BBA0F007514E_element_107\")>, <selenium.webdriver.remote.webelement.WebElement (session=\"eded64d18fd2a98191830194d1a0a498\", element=\"43CE020A3322E1B3E2C5BBA0F007514E_element_108\")>]\n"
     ]
    }
   ],
   "source": [
    "tutorialsRow = driver.find_element(By.ID, \"crprogress\")\n",
    "tutorialCards = tutorialsRow.find_elements(By.CLASS_NAME, \"prog-card\")\n",
    "print(tutorialsRow, tutorialCards)"
   ]
  },
  {
   "cell_type": "code",
   "execution_count": 282,
   "metadata": {},
   "outputs": [],
   "source": [
    "def playerHandler():\n",
    "    time.sleep(5)\n",
    "    skipVideoJs = 'player?.playVideo();player?.seekTo(player.getDuration()-5);'\n",
    "    driver.execute_script(skipVideoJs)\n",
    "    time.sleep(10)"
   ]
  },
  {
   "cell_type": "code",
   "execution_count": 286,
   "metadata": {},
   "outputs": [],
   "source": [
    "def lectureHandler(collapseIndex = \"1\"):\n",
    "    lectures = driver.find_element(By.ID, \"collapse\" + collapseIndex).find_elements(By.CLASS_NAME, \"cc-a\")\n",
    "    if collapseIndex == \"1\":\n",
    "        lectures.pop(0)\n",
    "    for nextLectureIndex in range(lectures.__len__()):\n",
    "        print(\"nextLectureIndex \", nextLectureIndex)\n",
    "        if collapseIndex != \"1\":\n",
    "            driver.find_element(By.CLASS_NAME, \"unit\").find_element(By.ID, \"lecture-title_\" + collapseIndex).click()\n",
    "        nextLecture =  driver.find_element(By.ID, \"collapse\" + collapseIndex).find_elements(By.CLASS_NAME, \"cc-a\")[nextLectureIndex]\n",
    "        nextLecture.click()\n",
    "        time.sleep(10)\n",
    "        playerHandler()"
   ]
  },
  {
   "cell_type": "code",
   "execution_count": 287,
   "metadata": {},
   "outputs": [
    {
     "name": "stdout",
     "output_type": "stream",
     "text": [
      "nextLectureIndex  0\n",
      "nextLectureIndex  1\n",
      "nextLectureIndex  2\n",
      "nextLectureIndex  3\n",
      "nextLectureIndex  4\n",
      "nextLectureIndex  5\n",
      "nextLectureIndex  6\n",
      "nextUnitIndex  0\n",
      "nextLectureIndex  0\n",
      "nextLectureIndex  1\n",
      "nextLectureIndex  2\n",
      "nextLectureIndex  3\n",
      "nextLectureIndex  4\n",
      "nextLectureIndex  5\n",
      "nextLectureIndex  6\n",
      "nextUnitIndex  1\n",
      "nextUnitIndex  2\n",
      "nextLectureIndex  0\n",
      "nextLectureIndex  1\n",
      "nextLectureIndex  2\n",
      "nextLectureIndex  3\n",
      "nextLectureIndex  4\n"
     ]
    },
    {
     "ename": "ElementNotInteractableException",
     "evalue": "Message: element not interactable\n  (Session info: chrome=121.0.6167.85)\nStacktrace:\n\tGetHandleVerifier [0x00007FF723F55E42+3538674]\n\t(No symbol) [0x00007FF723B74C02]\n\t(No symbol) [0x00007FF723A2599D]\n\t(No symbol) [0x00007FF723A6D406]\n\t(No symbol) [0x00007FF723A61950]\n\t(No symbol) [0x00007FF723A8F0AA]\n\t(No symbol) [0x00007FF723A6124A]\n\t(No symbol) [0x00007FF723A8F2C0]\n\t(No symbol) [0x00007FF723AABDE3]\n\t(No symbol) [0x00007FF723A8EE53]\n\t(No symbol) [0x00007FF723A5F514]\n\t(No symbol) [0x00007FF723A60631]\n\tGetHandleVerifier [0x00007FF723F86CAD+3738973]\n\tGetHandleVerifier [0x00007FF723FDC506+4089270]\n\tGetHandleVerifier [0x00007FF723FD4823+4057299]\n\tGetHandleVerifier [0x00007FF723CA5C49+720121]\n\t(No symbol) [0x00007FF723B8126F]\n\t(No symbol) [0x00007FF723B7C304]\n\t(No symbol) [0x00007FF723B7C432]\n\t(No symbol) [0x00007FF723B6BD04]\n\tBaseThreadInitThunk [0x00007FFA4688257D+29]\n\tRtlUserThreadStart [0x00007FFA47EEAA58+40]\n",
     "output_type": "error",
     "traceback": [
      "\u001b[1;31m---------------------------------------------------------------------------\u001b[0m",
      "\u001b[1;31mElementNotInteractableException\u001b[0m           Traceback (most recent call last)",
      "Cell \u001b[1;32mIn[287], line 12\u001b[0m\n\u001b[0;32m     10\u001b[0m     time\u001b[38;5;241m.\u001b[39msleep(\u001b[38;5;241m5\u001b[39m)\n\u001b[0;32m     11\u001b[0m     nextUnitIndex \u001b[38;5;241m=\u001b[39m nextUnitIndex \u001b[38;5;241m+\u001b[39m \u001b[38;5;241m1\u001b[39m\n\u001b[1;32m---> 12\u001b[0m     \u001b[43mlectureHandler\u001b[49m\u001b[43m(\u001b[49m\u001b[38;5;28;43mstr\u001b[39;49m\u001b[43m(\u001b[49m\u001b[43mnextUnitIndex\u001b[49m\u001b[43m)\u001b[49m\u001b[43m)\u001b[49m\n\u001b[0;32m     13\u001b[0m driver\u001b[38;5;241m.\u001b[39mback()\n",
      "Cell \u001b[1;32mIn[286], line 10\u001b[0m, in \u001b[0;36mlectureHandler\u001b[1;34m(collapseIndex)\u001b[0m\n\u001b[0;32m      8\u001b[0m     driver\u001b[38;5;241m.\u001b[39mfind_element(By\u001b[38;5;241m.\u001b[39mCLASS_NAME, \u001b[38;5;124m\"\u001b[39m\u001b[38;5;124munit\u001b[39m\u001b[38;5;124m\"\u001b[39m)\u001b[38;5;241m.\u001b[39mfind_element(By\u001b[38;5;241m.\u001b[39mID, \u001b[38;5;124m\"\u001b[39m\u001b[38;5;124mlecture-title_\u001b[39m\u001b[38;5;124m\"\u001b[39m \u001b[38;5;241m+\u001b[39m collapseIndex)\u001b[38;5;241m.\u001b[39mclick()\n\u001b[0;32m      9\u001b[0m nextLecture \u001b[38;5;241m=\u001b[39m  driver\u001b[38;5;241m.\u001b[39mfind_element(By\u001b[38;5;241m.\u001b[39mID, \u001b[38;5;124m\"\u001b[39m\u001b[38;5;124mcollapse\u001b[39m\u001b[38;5;124m\"\u001b[39m \u001b[38;5;241m+\u001b[39m collapseIndex)\u001b[38;5;241m.\u001b[39mfind_elements(By\u001b[38;5;241m.\u001b[39mCLASS_NAME, \u001b[38;5;124m\"\u001b[39m\u001b[38;5;124mcc-a\u001b[39m\u001b[38;5;124m\"\u001b[39m)[nextLectureIndex]\n\u001b[1;32m---> 10\u001b[0m \u001b[43mnextLecture\u001b[49m\u001b[38;5;241;43m.\u001b[39;49m\u001b[43mclick\u001b[49m\u001b[43m(\u001b[49m\u001b[43m)\u001b[49m\n\u001b[0;32m     11\u001b[0m time\u001b[38;5;241m.\u001b[39msleep(\u001b[38;5;241m10\u001b[39m)\n\u001b[0;32m     12\u001b[0m playerHandler()\n",
      "File \u001b[1;32m~\\AppData\\Local\\Packages\\PythonSoftwareFoundation.Python.3.11_qbz5n2kfra8p0\\LocalCache\\local-packages\\Python311\\site-packages\\selenium\\webdriver\\remote\\webelement.py:94\u001b[0m, in \u001b[0;36mWebElement.click\u001b[1;34m(self)\u001b[0m\n\u001b[0;32m     92\u001b[0m \u001b[38;5;28;01mdef\u001b[39;00m \u001b[38;5;21mclick\u001b[39m(\u001b[38;5;28mself\u001b[39m) \u001b[38;5;241m-\u001b[39m\u001b[38;5;241m>\u001b[39m \u001b[38;5;28;01mNone\u001b[39;00m:\n\u001b[0;32m     93\u001b[0m \u001b[38;5;250m    \u001b[39m\u001b[38;5;124;03m\"\"\"Clicks the element.\"\"\"\u001b[39;00m\n\u001b[1;32m---> 94\u001b[0m     \u001b[38;5;28;43mself\u001b[39;49m\u001b[38;5;241;43m.\u001b[39;49m\u001b[43m_execute\u001b[49m\u001b[43m(\u001b[49m\u001b[43mCommand\u001b[49m\u001b[38;5;241;43m.\u001b[39;49m\u001b[43mCLICK_ELEMENT\u001b[49m\u001b[43m)\u001b[49m\n",
      "File \u001b[1;32m~\\AppData\\Local\\Packages\\PythonSoftwareFoundation.Python.3.11_qbz5n2kfra8p0\\LocalCache\\local-packages\\Python311\\site-packages\\selenium\\webdriver\\remote\\webelement.py:395\u001b[0m, in \u001b[0;36mWebElement._execute\u001b[1;34m(self, command, params)\u001b[0m\n\u001b[0;32m    393\u001b[0m     params \u001b[38;5;241m=\u001b[39m {}\n\u001b[0;32m    394\u001b[0m params[\u001b[38;5;124m\"\u001b[39m\u001b[38;5;124mid\u001b[39m\u001b[38;5;124m\"\u001b[39m] \u001b[38;5;241m=\u001b[39m \u001b[38;5;28mself\u001b[39m\u001b[38;5;241m.\u001b[39m_id\n\u001b[1;32m--> 395\u001b[0m \u001b[38;5;28;01mreturn\u001b[39;00m \u001b[38;5;28;43mself\u001b[39;49m\u001b[38;5;241;43m.\u001b[39;49m\u001b[43m_parent\u001b[49m\u001b[38;5;241;43m.\u001b[39;49m\u001b[43mexecute\u001b[49m\u001b[43m(\u001b[49m\u001b[43mcommand\u001b[49m\u001b[43m,\u001b[49m\u001b[43m \u001b[49m\u001b[43mparams\u001b[49m\u001b[43m)\u001b[49m\n",
      "File \u001b[1;32m~\\AppData\\Local\\Packages\\PythonSoftwareFoundation.Python.3.11_qbz5n2kfra8p0\\LocalCache\\local-packages\\Python311\\site-packages\\selenium\\webdriver\\remote\\webdriver.py:348\u001b[0m, in \u001b[0;36mWebDriver.execute\u001b[1;34m(self, driver_command, params)\u001b[0m\n\u001b[0;32m    346\u001b[0m response \u001b[38;5;241m=\u001b[39m \u001b[38;5;28mself\u001b[39m\u001b[38;5;241m.\u001b[39mcommand_executor\u001b[38;5;241m.\u001b[39mexecute(driver_command, params)\n\u001b[0;32m    347\u001b[0m \u001b[38;5;28;01mif\u001b[39;00m response:\n\u001b[1;32m--> 348\u001b[0m     \u001b[38;5;28;43mself\u001b[39;49m\u001b[38;5;241;43m.\u001b[39;49m\u001b[43merror_handler\u001b[49m\u001b[38;5;241;43m.\u001b[39;49m\u001b[43mcheck_response\u001b[49m\u001b[43m(\u001b[49m\u001b[43mresponse\u001b[49m\u001b[43m)\u001b[49m\n\u001b[0;32m    349\u001b[0m     response[\u001b[38;5;124m\"\u001b[39m\u001b[38;5;124mvalue\u001b[39m\u001b[38;5;124m\"\u001b[39m] \u001b[38;5;241m=\u001b[39m \u001b[38;5;28mself\u001b[39m\u001b[38;5;241m.\u001b[39m_unwrap_value(response\u001b[38;5;241m.\u001b[39mget(\u001b[38;5;124m\"\u001b[39m\u001b[38;5;124mvalue\u001b[39m\u001b[38;5;124m\"\u001b[39m, \u001b[38;5;28;01mNone\u001b[39;00m))\n\u001b[0;32m    350\u001b[0m     \u001b[38;5;28;01mreturn\u001b[39;00m response\n",
      "File \u001b[1;32m~\\AppData\\Local\\Packages\\PythonSoftwareFoundation.Python.3.11_qbz5n2kfra8p0\\LocalCache\\local-packages\\Python311\\site-packages\\selenium\\webdriver\\remote\\errorhandler.py:229\u001b[0m, in \u001b[0;36mErrorHandler.check_response\u001b[1;34m(self, response)\u001b[0m\n\u001b[0;32m    227\u001b[0m         alert_text \u001b[38;5;241m=\u001b[39m value[\u001b[38;5;124m\"\u001b[39m\u001b[38;5;124malert\u001b[39m\u001b[38;5;124m\"\u001b[39m]\u001b[38;5;241m.\u001b[39mget(\u001b[38;5;124m\"\u001b[39m\u001b[38;5;124mtext\u001b[39m\u001b[38;5;124m\"\u001b[39m)\n\u001b[0;32m    228\u001b[0m     \u001b[38;5;28;01mraise\u001b[39;00m exception_class(message, screen, stacktrace, alert_text)  \u001b[38;5;66;03m# type: ignore[call-arg]  # mypy is not smart enough here\u001b[39;00m\n\u001b[1;32m--> 229\u001b[0m \u001b[38;5;28;01mraise\u001b[39;00m exception_class(message, screen, stacktrace)\n",
      "\u001b[1;31mElementNotInteractableException\u001b[0m: Message: element not interactable\n  (Session info: chrome=121.0.6167.85)\nStacktrace:\n\tGetHandleVerifier [0x00007FF723F55E42+3538674]\n\t(No symbol) [0x00007FF723B74C02]\n\t(No symbol) [0x00007FF723A2599D]\n\t(No symbol) [0x00007FF723A6D406]\n\t(No symbol) [0x00007FF723A61950]\n\t(No symbol) [0x00007FF723A8F0AA]\n\t(No symbol) [0x00007FF723A6124A]\n\t(No symbol) [0x00007FF723A8F2C0]\n\t(No symbol) [0x00007FF723AABDE3]\n\t(No symbol) [0x00007FF723A8EE53]\n\t(No symbol) [0x00007FF723A5F514]\n\t(No symbol) [0x00007FF723A60631]\n\tGetHandleVerifier [0x00007FF723F86CAD+3738973]\n\tGetHandleVerifier [0x00007FF723FDC506+4089270]\n\tGetHandleVerifier [0x00007FF723FD4823+4057299]\n\tGetHandleVerifier [0x00007FF723CA5C49+720121]\n\t(No symbol) [0x00007FF723B8126F]\n\t(No symbol) [0x00007FF723B7C304]\n\t(No symbol) [0x00007FF723B7C432]\n\t(No symbol) [0x00007FF723B6BD04]\n\tBaseThreadInitThunk [0x00007FFA4688257D+29]\n\tRtlUserThreadStart [0x00007FFA47EEAA58+40]\n"
     ]
    }
   ],
   "source": [
    "for currentTutorial in tutorialCards:\n",
    "    currentTutorial.find_element(By.TAG_NAME, 'a').click()\n",
    "    units = driver.find_element(By.CLASS_NAME, \"unit\").find_elements(By.CLASS_NAME, \"lecture-title\")\n",
    "    playerHandler()\n",
    "    lectureHandler()\n",
    "    nextUnitIndex = 0\n",
    "    while nextUnitIndex < units.__len__():\n",
    "        print(\"nextUnitIndex \", nextUnitIndex)\n",
    "        driver.find_element(By.CLASS_NAME, \"unit\").find_elements(By.CLASS_NAME, \"lecture-title\")[nextUnitIndex].click()\n",
    "        time.sleep(5)\n",
    "        nextUnitIndex = nextUnitIndex + 1\n",
    "        lectureHandler(str(nextUnitIndex))\n",
    "    driver.back()"
   ]
  }
 ],
 "metadata": {
  "kernelspec": {
   "display_name": "Python 3",
   "language": "python",
   "name": "python3"
  },
  "language_info": {
   "codemirror_mode": {
    "name": "ipython",
    "version": 3
   },
   "file_extension": ".py",
   "mimetype": "text/x-python",
   "name": "python",
   "nbconvert_exporter": "python",
   "pygments_lexer": "ipython3",
   "version": "3.11.7"
  }
 },
 "nbformat": 4,
 "nbformat_minor": 2
}
