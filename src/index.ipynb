{
 "cells": [
  {
   "cell_type": "code",
   "execution_count": 177,
   "metadata": {},
   "outputs": [],
   "source": [
    "#Import Packages\n",
    "from selenium import webdriver\n",
    "from selenium.webdriver.common.by import By\n",
    "from dotenv import load_dotenv\n",
    "import os\n",
    "import time"
   ]
  },
  {
   "cell_type": "code",
   "execution_count": 178,
   "metadata": {},
   "outputs": [],
   "source": [
    "dashboardUrl = \"https://lms.lpuonline.com/\""
   ]
  },
  {
   "cell_type": "code",
   "execution_count": 179,
   "metadata": {},
   "outputs": [],
   "source": [
    "#Load the web driver and get the url\n",
    "driver = webdriver.Chrome()\n",
    "driver.implicitly_wait(10)\n",
    "driver.get(dashboardUrl)"
   ]
  },
  {
   "cell_type": "code",
   "execution_count": 180,
   "metadata": {},
   "outputs": [
    {
     "name": "stdout",
     "output_type": "stream",
     "text": [
      "<class 'str'> <class 'str'>\n"
     ]
    }
   ],
   "source": [
    "load_dotenv()\n",
    "username = os.environ.get(\"registrationId\")\n",
    "password = os.environ.get(\"password\")\n",
    "print(type(username), type(password))"
   ]
  },
  {
   "cell_type": "code",
   "execution_count": 181,
   "metadata": {},
   "outputs": [],
   "source": [
    "usernameInput = driver.find_element(By.ID, \"username\")\n",
    "passwordInput = driver.find_element(By.ID, \"Password\")\n",
    "loginButton = driver.find_element(By.ID, \"LoginButton\")"
   ]
  },
  {
   "cell_type": "code",
   "execution_count": 182,
   "metadata": {},
   "outputs": [],
   "source": [
    "usernameInput.send_keys(username)\n",
    "passwordInput.send_keys(password)\n",
    "loginButton.click()"
   ]
  },
  {
   "cell_type": "code",
   "execution_count": 183,
   "metadata": {},
   "outputs": [
    {
     "name": "stdout",
     "output_type": "stream",
     "text": [
      "<selenium.webdriver.remote.webelement.WebElement (session=\"11ab675fc65b6ca14c4a6f63ad341a66\", element=\"B285DAD508393674AFDB713F95493CD6_element_83\")> [<selenium.webdriver.remote.webelement.WebElement (session=\"11ab675fc65b6ca14c4a6f63ad341a66\", element=\"B285DAD508393674AFDB713F95493CD6_element_130\")>, <selenium.webdriver.remote.webelement.WebElement (session=\"11ab675fc65b6ca14c4a6f63ad341a66\", element=\"B285DAD508393674AFDB713F95493CD6_element_131\")>, <selenium.webdriver.remote.webelement.WebElement (session=\"11ab675fc65b6ca14c4a6f63ad341a66\", element=\"B285DAD508393674AFDB713F95493CD6_element_132\")>, <selenium.webdriver.remote.webelement.WebElement (session=\"11ab675fc65b6ca14c4a6f63ad341a66\", element=\"B285DAD508393674AFDB713F95493CD6_element_133\")>, <selenium.webdriver.remote.webelement.WebElement (session=\"11ab675fc65b6ca14c4a6f63ad341a66\", element=\"B285DAD508393674AFDB713F95493CD6_element_134\")>, <selenium.webdriver.remote.webelement.WebElement (session=\"11ab675fc65b6ca14c4a6f63ad341a66\", element=\"B285DAD508393674AFDB713F95493CD6_element_135\")>, <selenium.webdriver.remote.webelement.WebElement (session=\"11ab675fc65b6ca14c4a6f63ad341a66\", element=\"B285DAD508393674AFDB713F95493CD6_element_136\")>]\n"
     ]
    }
   ],
   "source": [
    "tutorialsRow = driver.find_element(By.ID, \"crprogress\")\n",
    "tutorialCards = tutorialsRow.find_elements(By.CLASS_NAME, \"prog-card\")\n",
    "print(tutorialsRow, tutorialCards)"
   ]
  },
  {
   "cell_type": "code",
   "execution_count": 187,
   "metadata": {},
   "outputs": [],
   "source": [
    "def lectureHandler(inPlay = False):\n",
    "    lectures = (driver.find_element(By.CLASS_NAME, \"inPlay\") if inPlay else driver.find_element(By.CLASS_NAME, \"unit\").find_element(By.CLASS_NAME, \"collapse\")).find_elements(By.CLASS_NAME, \"videoli\")\n",
    "    for nextLectureIndex in range(lectures.__len__()):\n",
    "        print(\"nextLectureIndex \", nextLectureIndex)\n",
    "        try:\n",
    "            nextLecture =  (driver.find_element(By.CLASS_NAME, \"inPlay\") if inPlay else driver.find_element(By.CLASS_NAME, \"unit\").find_element(By.CLASS_NAME, \"collapse\")).find_elements(By.CLASS_NAME, \"videoli\")[nextLectureIndex]\n",
    "        except: \n",
    "            nextLecture = driver.find_element(By.CLASS_NAME, \"inPlay\").find_elements(By.CLASS_NAME, \"videoli\")[nextLectureIndex]\n",
    "        nextLecture.find_element(By.CLASS_NAME, \"cc-a\").click()\n",
    "        time.sleep(5)\n",
    "        driver.execute_script(open(\"./videoHandler.js\").read())\n",
    "        time.sleep(10)"
   ]
  },
  {
   "cell_type": "code",
   "execution_count": 186,
   "metadata": {},
   "outputs": [
    {
     "name": "stdout",
     "output_type": "stream",
     "text": [
      "nextLectureIndex  0\n",
      "nextLectureIndex  1\n",
      "nextLectureIndex  2\n",
      "nextLectureIndex  0\n",
      "nextLectureIndex  0\n",
      "nextLectureIndex  1\n",
      "nextLectureIndex  2\n",
      "nextUnitIndex  0\n",
      "nextLectureIndex  0\n",
      "nextLectureIndex  1\n",
      "nextLectureIndex  2\n",
      "nextUnitIndex  1\n",
      "nextLectureIndex  0\n",
      "nextLectureIndex  1\n",
      "nextLectureIndex  2\n",
      "nextLectureIndex  3\n",
      "nextLectureIndex  4\n",
      "nextUnitIndex  2\n",
      "nextLectureIndex  0\n",
      "nextLectureIndex  1\n",
      "nextUnitIndex  3\n",
      "nextLectureIndex  0\n",
      "nextLectureIndex  1\n",
      "nextLectureIndex  2\n",
      "nextUnitIndex  4\n",
      "nextLectureIndex  0\n",
      "nextLectureIndex  1\n",
      "nextLectureIndex  2\n",
      "nextUnitIndex  5\n",
      "nextLectureIndex  0\n",
      "nextLectureIndex  1\n",
      "nextLectureIndex  2\n",
      "nextUnitIndex  6\n",
      "nextLectureIndex  0\n",
      "nextLectureIndex  1\n",
      "nextLectureIndex  2\n",
      "nextLectureIndex  3\n",
      "nextUnitIndex  7\n",
      "nextLectureIndex  0\n",
      "nextLectureIndex  1\n",
      "nextLectureIndex  2\n",
      "nextUnitIndex  8\n",
      "nextLectureIndex  0\n",
      "nextLectureIndex  1\n",
      "nextLectureIndex  2\n",
      "nextLectureIndex  3\n",
      "nextUnitIndex  9\n",
      "nextLectureIndex  0\n",
      "nextLectureIndex  1\n"
     ]
    },
    {
     "ename": "StaleElementReferenceException",
     "evalue": "Message: stale element reference: stale element not found\n  (Session info: chrome=121.0.6167.85); For documentation on this error, please visit: https://www.selenium.dev/documentation/webdriver/troubleshooting/errors#stale-element-reference-exception\nStacktrace:\n\tGetHandleVerifier [0x00007FF6D7195E42+3538674]\n\t(No symbol) [0x00007FF6D6DB4C02]\n\t(No symbol) [0x00007FF6D6C65AEB]\n\t(No symbol) [0x00007FF6D6C7514B]\n\t(No symbol) [0x00007FF6D6C6B92A]\n\t(No symbol) [0x00007FF6D6C69D10]\n\t(No symbol) [0x00007FF6D6C6D150]\n\t(No symbol) [0x00007FF6D6C6D210]\n\t(No symbol) [0x00007FF6D6CABBBC]\n\t(No symbol) [0x00007FF6D6CAC0CC]\n\t(No symbol) [0x00007FF6D6CA12EC]\n\t(No symbol) [0x00007FF6D6CCF0EF]\n\t(No symbol) [0x00007FF6D6CA124A]\n\t(No symbol) [0x00007FF6D6CCF2C0]\n\t(No symbol) [0x00007FF6D6CEBDE3]\n\t(No symbol) [0x00007FF6D6CCEE53]\n\t(No symbol) [0x00007FF6D6C9F514]\n\t(No symbol) [0x00007FF6D6CA0631]\n\tGetHandleVerifier [0x00007FF6D71C6CAD+3738973]\n\tGetHandleVerifier [0x00007FF6D721C506+4089270]\n\tGetHandleVerifier [0x00007FF6D7214823+4057299]\n\tGetHandleVerifier [0x00007FF6D6EE5C49+720121]\n\t(No symbol) [0x00007FF6D6DC126F]\n\t(No symbol) [0x00007FF6D6DBC304]\n\t(No symbol) [0x00007FF6D6DBC432]\n\t(No symbol) [0x00007FF6D6DABD04]\n\tBaseThreadInitThunk [0x00007FFBC32D257D+29]\n\tRtlUserThreadStart [0x00007FFBC390AA58+40]\n",
     "output_type": "error",
     "traceback": [
      "\u001b[1;31m---------------------------------------------------------------------------\u001b[0m",
      "\u001b[1;31mStaleElementReferenceException\u001b[0m            Traceback (most recent call last)",
      "Cell \u001b[1;32mIn[186], line 2\u001b[0m\n\u001b[0;32m      1\u001b[0m \u001b[38;5;28;01mfor\u001b[39;00m currentTutorial \u001b[38;5;129;01min\u001b[39;00m tutorialCards:\n\u001b[1;32m----> 2\u001b[0m     \u001b[43mcurrentTutorial\u001b[49m\u001b[38;5;241;43m.\u001b[39;49m\u001b[43mfind_element\u001b[49m\u001b[43m(\u001b[49m\u001b[43mBy\u001b[49m\u001b[38;5;241;43m.\u001b[39;49m\u001b[43mTAG_NAME\u001b[49m\u001b[43m,\u001b[49m\u001b[43m \u001b[49m\u001b[38;5;124;43m'\u001b[39;49m\u001b[38;5;124;43ma\u001b[39;49m\u001b[38;5;124;43m'\u001b[39;49m\u001b[43m)\u001b[49m\u001b[38;5;241m.\u001b[39mclick()\n\u001b[0;32m      3\u001b[0m     units \u001b[38;5;241m=\u001b[39m driver\u001b[38;5;241m.\u001b[39mfind_element(By\u001b[38;5;241m.\u001b[39mCLASS_NAME, \u001b[38;5;124m\"\u001b[39m\u001b[38;5;124munit\u001b[39m\u001b[38;5;124m\"\u001b[39m)\u001b[38;5;241m.\u001b[39mfind_elements(By\u001b[38;5;241m.\u001b[39mCLASS_NAME, \u001b[38;5;124m\"\u001b[39m\u001b[38;5;124mcollapse\u001b[39m\u001b[38;5;124m\"\u001b[39m)\n\u001b[0;32m      4\u001b[0m     lectureHandler(\u001b[38;5;28;01mTrue\u001b[39;00m)\n",
      "File \u001b[1;32m~\\AppData\\Local\\Packages\\PythonSoftwareFoundation.Python.3.11_qbz5n2kfra8p0\\LocalCache\\local-packages\\Python311\\site-packages\\selenium\\webdriver\\remote\\webelement.py:417\u001b[0m, in \u001b[0;36mWebElement.find_element\u001b[1;34m(self, by, value)\u001b[0m\n\u001b[0;32m    414\u001b[0m     by \u001b[38;5;241m=\u001b[39m By\u001b[38;5;241m.\u001b[39mCSS_SELECTOR\n\u001b[0;32m    415\u001b[0m     value \u001b[38;5;241m=\u001b[39m \u001b[38;5;124mf\u001b[39m\u001b[38;5;124m'\u001b[39m\u001b[38;5;124m[name=\u001b[39m\u001b[38;5;124m\"\u001b[39m\u001b[38;5;132;01m{\u001b[39;00mvalue\u001b[38;5;132;01m}\u001b[39;00m\u001b[38;5;124m\"\u001b[39m\u001b[38;5;124m]\u001b[39m\u001b[38;5;124m'\u001b[39m\n\u001b[1;32m--> 417\u001b[0m \u001b[38;5;28;01mreturn\u001b[39;00m \u001b[38;5;28;43mself\u001b[39;49m\u001b[38;5;241;43m.\u001b[39;49m\u001b[43m_execute\u001b[49m\u001b[43m(\u001b[49m\u001b[43mCommand\u001b[49m\u001b[38;5;241;43m.\u001b[39;49m\u001b[43mFIND_CHILD_ELEMENT\u001b[49m\u001b[43m,\u001b[49m\u001b[43m \u001b[49m\u001b[43m{\u001b[49m\u001b[38;5;124;43m\"\u001b[39;49m\u001b[38;5;124;43musing\u001b[39;49m\u001b[38;5;124;43m\"\u001b[39;49m\u001b[43m:\u001b[49m\u001b[43m \u001b[49m\u001b[43mby\u001b[49m\u001b[43m,\u001b[49m\u001b[43m \u001b[49m\u001b[38;5;124;43m\"\u001b[39;49m\u001b[38;5;124;43mvalue\u001b[39;49m\u001b[38;5;124;43m\"\u001b[39;49m\u001b[43m:\u001b[49m\u001b[43m \u001b[49m\u001b[43mvalue\u001b[49m\u001b[43m}\u001b[49m\u001b[43m)\u001b[49m[\u001b[38;5;124m\"\u001b[39m\u001b[38;5;124mvalue\u001b[39m\u001b[38;5;124m\"\u001b[39m]\n",
      "File \u001b[1;32m~\\AppData\\Local\\Packages\\PythonSoftwareFoundation.Python.3.11_qbz5n2kfra8p0\\LocalCache\\local-packages\\Python311\\site-packages\\selenium\\webdriver\\remote\\webelement.py:395\u001b[0m, in \u001b[0;36mWebElement._execute\u001b[1;34m(self, command, params)\u001b[0m\n\u001b[0;32m    393\u001b[0m     params \u001b[38;5;241m=\u001b[39m {}\n\u001b[0;32m    394\u001b[0m params[\u001b[38;5;124m\"\u001b[39m\u001b[38;5;124mid\u001b[39m\u001b[38;5;124m\"\u001b[39m] \u001b[38;5;241m=\u001b[39m \u001b[38;5;28mself\u001b[39m\u001b[38;5;241m.\u001b[39m_id\n\u001b[1;32m--> 395\u001b[0m \u001b[38;5;28;01mreturn\u001b[39;00m \u001b[38;5;28;43mself\u001b[39;49m\u001b[38;5;241;43m.\u001b[39;49m\u001b[43m_parent\u001b[49m\u001b[38;5;241;43m.\u001b[39;49m\u001b[43mexecute\u001b[49m\u001b[43m(\u001b[49m\u001b[43mcommand\u001b[49m\u001b[43m,\u001b[49m\u001b[43m \u001b[49m\u001b[43mparams\u001b[49m\u001b[43m)\u001b[49m\n",
      "File \u001b[1;32m~\\AppData\\Local\\Packages\\PythonSoftwareFoundation.Python.3.11_qbz5n2kfra8p0\\LocalCache\\local-packages\\Python311\\site-packages\\selenium\\webdriver\\remote\\webdriver.py:348\u001b[0m, in \u001b[0;36mWebDriver.execute\u001b[1;34m(self, driver_command, params)\u001b[0m\n\u001b[0;32m    346\u001b[0m response \u001b[38;5;241m=\u001b[39m \u001b[38;5;28mself\u001b[39m\u001b[38;5;241m.\u001b[39mcommand_executor\u001b[38;5;241m.\u001b[39mexecute(driver_command, params)\n\u001b[0;32m    347\u001b[0m \u001b[38;5;28;01mif\u001b[39;00m response:\n\u001b[1;32m--> 348\u001b[0m     \u001b[38;5;28;43mself\u001b[39;49m\u001b[38;5;241;43m.\u001b[39;49m\u001b[43merror_handler\u001b[49m\u001b[38;5;241;43m.\u001b[39;49m\u001b[43mcheck_response\u001b[49m\u001b[43m(\u001b[49m\u001b[43mresponse\u001b[49m\u001b[43m)\u001b[49m\n\u001b[0;32m    349\u001b[0m     response[\u001b[38;5;124m\"\u001b[39m\u001b[38;5;124mvalue\u001b[39m\u001b[38;5;124m\"\u001b[39m] \u001b[38;5;241m=\u001b[39m \u001b[38;5;28mself\u001b[39m\u001b[38;5;241m.\u001b[39m_unwrap_value(response\u001b[38;5;241m.\u001b[39mget(\u001b[38;5;124m\"\u001b[39m\u001b[38;5;124mvalue\u001b[39m\u001b[38;5;124m\"\u001b[39m, \u001b[38;5;28;01mNone\u001b[39;00m))\n\u001b[0;32m    350\u001b[0m     \u001b[38;5;28;01mreturn\u001b[39;00m response\n",
      "File \u001b[1;32m~\\AppData\\Local\\Packages\\PythonSoftwareFoundation.Python.3.11_qbz5n2kfra8p0\\LocalCache\\local-packages\\Python311\\site-packages\\selenium\\webdriver\\remote\\errorhandler.py:229\u001b[0m, in \u001b[0;36mErrorHandler.check_response\u001b[1;34m(self, response)\u001b[0m\n\u001b[0;32m    227\u001b[0m         alert_text \u001b[38;5;241m=\u001b[39m value[\u001b[38;5;124m\"\u001b[39m\u001b[38;5;124malert\u001b[39m\u001b[38;5;124m\"\u001b[39m]\u001b[38;5;241m.\u001b[39mget(\u001b[38;5;124m\"\u001b[39m\u001b[38;5;124mtext\u001b[39m\u001b[38;5;124m\"\u001b[39m)\n\u001b[0;32m    228\u001b[0m     \u001b[38;5;28;01mraise\u001b[39;00m exception_class(message, screen, stacktrace, alert_text)  \u001b[38;5;66;03m# type: ignore[call-arg]  # mypy is not smart enough here\u001b[39;00m\n\u001b[1;32m--> 229\u001b[0m \u001b[38;5;28;01mraise\u001b[39;00m exception_class(message, screen, stacktrace)\n",
      "\u001b[1;31mStaleElementReferenceException\u001b[0m: Message: stale element reference: stale element not found\n  (Session info: chrome=121.0.6167.85); For documentation on this error, please visit: https://www.selenium.dev/documentation/webdriver/troubleshooting/errors#stale-element-reference-exception\nStacktrace:\n\tGetHandleVerifier [0x00007FF6D7195E42+3538674]\n\t(No symbol) [0x00007FF6D6DB4C02]\n\t(No symbol) [0x00007FF6D6C65AEB]\n\t(No symbol) [0x00007FF6D6C7514B]\n\t(No symbol) [0x00007FF6D6C6B92A]\n\t(No symbol) [0x00007FF6D6C69D10]\n\t(No symbol) [0x00007FF6D6C6D150]\n\t(No symbol) [0x00007FF6D6C6D210]\n\t(No symbol) [0x00007FF6D6CABBBC]\n\t(No symbol) [0x00007FF6D6CAC0CC]\n\t(No symbol) [0x00007FF6D6CA12EC]\n\t(No symbol) [0x00007FF6D6CCF0EF]\n\t(No symbol) [0x00007FF6D6CA124A]\n\t(No symbol) [0x00007FF6D6CCF2C0]\n\t(No symbol) [0x00007FF6D6CEBDE3]\n\t(No symbol) [0x00007FF6D6CCEE53]\n\t(No symbol) [0x00007FF6D6C9F514]\n\t(No symbol) [0x00007FF6D6CA0631]\n\tGetHandleVerifier [0x00007FF6D71C6CAD+3738973]\n\tGetHandleVerifier [0x00007FF6D721C506+4089270]\n\tGetHandleVerifier [0x00007FF6D7214823+4057299]\n\tGetHandleVerifier [0x00007FF6D6EE5C49+720121]\n\t(No symbol) [0x00007FF6D6DC126F]\n\t(No symbol) [0x00007FF6D6DBC304]\n\t(No symbol) [0x00007FF6D6DBC432]\n\t(No symbol) [0x00007FF6D6DABD04]\n\tBaseThreadInitThunk [0x00007FFBC32D257D+29]\n\tRtlUserThreadStart [0x00007FFBC390AA58+40]\n"
     ]
    }
   ],
   "source": [
    "for currentTutorial in tutorialCards:\n",
    "    currentTutorial.find_element(By.TAG_NAME, 'a').click()\n",
    "    units = driver.find_element(By.CLASS_NAME, \"unit\").find_elements(By.CLASS_NAME, \"collapse\")\n",
    "    lectureHandler(True)\n",
    "    nextUnitIndex = 0\n",
    "    while nextUnitIndex < units.__len__():\n",
    "        print(\"nextUnitIndex \", nextUnitIndex)\n",
    "        driver.find_element(By.CLASS_NAME, \"unit\").find_element(By.CLASS_NAME, \"lecture-title\").click()\n",
    "        time.sleep(5)\n",
    "        lectureHandler()\n",
    "        nextUnitIndex = nextUnitIndex + 1\n",
    "    driver.back()"
   ]
  }
 ],
 "metadata": {
  "kernelspec": {
   "display_name": "Python 3 (ipykernel)",
   "language": "python",
   "name": "python3"
  },
  "language_info": {
   "codemirror_mode": {
    "name": "ipython",
    "version": 3
   },
   "file_extension": ".py",
   "mimetype": "text/x-python",
   "name": "python",
   "nbconvert_exporter": "python",
   "pygments_lexer": "ipython3",
   "version": "3.11.7"
  }
 },
 "nbformat": 4,
 "nbformat_minor": 2
}
