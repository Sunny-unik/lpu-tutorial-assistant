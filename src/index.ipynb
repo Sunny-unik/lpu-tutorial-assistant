{
 "cells": [
  {
   "cell_type": "code",
   "execution_count": 29,
   "metadata": {},
   "outputs": [],
   "source": [
    "#Import Packages\n",
    "from selenium import webdriver\n",
    "from selenium.webdriver.common.by import By\n",
    "from dotenv import load_dotenv\n",
    "from selenium.webdriver.support.ui import WebDriverWait\n",
    "from selenium.webdriver.support import expected_conditions\n",
    "import os\n",
    "import time"
   ]
  },
  {
   "cell_type": "code",
   "execution_count": 30,
   "metadata": {},
   "outputs": [],
   "source": [
    "dashboardUrl = \"https://lms.lpuonline.com/\""
   ]
  },
  {
   "cell_type": "code",
   "execution_count": 31,
   "metadata": {},
   "outputs": [],
   "source": [
    "#Load the web driver and get the url\n",
    "driver = webdriver.Chrome()\n",
    "driver.implicitly_wait(10)\n",
    "driver.get(dashboardUrl)"
   ]
  },
  {
   "cell_type": "code",
   "execution_count": 32,
   "metadata": {},
   "outputs": [
    {
     "name": "stdout",
     "output_type": "stream",
     "text": [
      "<class 'str'> <class 'str'>\n"
     ]
    }
   ],
   "source": [
    "load_dotenv()\n",
    "username = os.environ.get(\"registrationId\")\n",
    "password = os.environ.get(\"password\")\n",
    "print(type(username), type(password))"
   ]
  },
  {
   "cell_type": "code",
   "execution_count": 33,
   "metadata": {},
   "outputs": [],
   "source": [
    "usernameInput = driver.find_element(By.ID, \"username\")\n",
    "passwordInput = driver.find_element(By.ID, \"Password\")\n",
    "loginButton = driver.find_element(By.ID, \"LoginButton\")"
   ]
  },
  {
   "cell_type": "code",
   "execution_count": 34,
   "metadata": {},
   "outputs": [],
   "source": [
    "usernameInput.send_keys(username)\n",
    "passwordInput.send_keys(password)\n",
    "loginButton.click()"
   ]
  },
  {
   "cell_type": "code",
   "execution_count": 35,
   "metadata": {},
   "outputs": [],
   "source": [
    "totalSubjects = driver.find_element(By.ID, \"crprogress\").find_elements(By.CLASS_NAME, \"prog-card\").__len__()"
   ]
  },
  {
   "cell_type": "code",
   "execution_count": 36,
   "metadata": {},
   "outputs": [],
   "source": [
    "def lectureHandler(inPlay = False):\n",
    "    totalLectures = (driver.find_element(By.CLASS_NAME, \"inPlay\") if inPlay else driver.find_element(By.CLASS_NAME, \"unit\").find_element(By.CLASS_NAME, \"collapse\")).find_elements(By.CLASS_NAME, \"videoli\").__len__()\n",
    "    print(totalLectures)\n",
    "    if totalLectures == 0:\n",
    "        raise Exception(\"Lectures not loaded\")\n",
    "    for currentLectureIndex in range(totalLectures):\n",
    "        print(\"currentLectureIndex \", currentLectureIndex, \"total lectures in current unit is \", totalLectures)\n",
    "        progressText = driver.find_element(By.CLASS_NAME, \"inPlay\").find_element(By.CLASS_NAME, \"progress-text\").text\n",
    "        print(progressText)\n",
    "        if inPlay and progressText == \"100%\":\n",
    "            break\n",
    "        try:\n",
    "            nextLecture =  (driver.find_element(By.CLASS_NAME, \"inPlay\") if inPlay else driver.find_element(By.CLASS_NAME, \"unit\").find_element(By.CLASS_NAME, \"collapse\")).find_elements(By.CLASS_NAME, \"videoli\")[currentLectureIndex]\n",
    "        except: \n",
    "            nextLecture = driver.find_element(By.CLASS_NAME, \"inPlay\").find_elements(By.CLASS_NAME, \"videoli\")[currentLectureIndex]\n",
    "        nextLecture.find_element(By.CLASS_NAME, \"cc-a\").click()\n",
    "        time.sleep(5)\n",
    "        driver.execute_script(open(\"./videoHandler.js\").read())\n",
    "        time.sleep(10)"
   ]
  },
  {
   "cell_type": "code",
   "execution_count": 37,
   "metadata": {},
   "outputs": [
    {
     "name": "stdout",
     "output_type": "stream",
     "text": [
      "\n",
      "\n",
      "currentSubjectIndex  0\n",
      "\n",
      "totalRemainingUnit 0\n",
      "currentLectureIndex  0 total lectures in current unit is  3\n",
      "currentLectureIndex  1 total lectures in current unit is  3\n",
      "currentLectureIndex  2 total lectures in current unit is  3\n",
      "\n",
      "\n",
      "currentSubjectIndex  1\n",
      "\n",
      "totalRemainingUnit 0\n",
      "currentLectureIndex  0 total lectures in current unit is  1\n",
      "\n",
      "\n",
      "currentSubjectIndex  2\n",
      "\n",
      "totalRemainingUnit 0\n",
      "currentLectureIndex  0 total lectures in current unit is  2\n",
      "currentLectureIndex  1 total lectures in current unit is  2\n",
      "\n",
      "\n",
      "currentSubjectIndex  3\n",
      "\n",
      "totalRemainingUnit 0\n",
      "currentLectureIndex  0 total lectures in current unit is  10\n",
      "currentLectureIndex  1 total lectures in current unit is  10\n",
      "currentLectureIndex  2 total lectures in current unit is  10\n",
      "currentLectureIndex  3 total lectures in current unit is  10\n",
      "currentLectureIndex  4 total lectures in current unit is  10\n",
      "currentLectureIndex  5 total lectures in current unit is  10\n",
      "currentLectureIndex  6 total lectures in current unit is  10\n",
      "currentLectureIndex  7 total lectures in current unit is  10\n",
      "currentLectureIndex  8 total lectures in current unit is  10\n",
      "currentLectureIndex  9 total lectures in current unit is  10\n",
      "\n",
      "\n",
      "currentSubjectIndex  4\n",
      "\n",
      "totalRemainingUnit 0\n",
      "currentLectureIndex  0 total lectures in current unit is  1\n",
      "\n",
      "\n",
      "currentSubjectIndex  5\n",
      "\n",
      "totalRemainingUnit 3\n",
      "currentLectureIndex  0 total lectures in current unit is  4\n",
      "currentLectureIndex  1 total lectures in current unit is  4\n",
      "currentLectureIndex  2 total lectures in current unit is  4\n",
      "currentLectureIndex  3 total lectures in current unit is  4\n",
      "\n",
      "currentUnitIndex  2\n",
      "\n",
      "currentUnitIndex  3\n",
      "\n",
      "\n",
      "currentSubjectIndex  6\n",
      "\n",
      "totalRemainingUnit 13\n",
      "currentLectureIndex  0 total lectures in current unit is  6\n",
      "currentLectureIndex  1 total lectures in current unit is  6\n",
      "currentLectureIndex  2 total lectures in current unit is  6\n",
      "currentLectureIndex  3 total lectures in current unit is  6\n",
      "currentLectureIndex  4 total lectures in current unit is  6\n",
      "currentLectureIndex  5 total lectures in current unit is  6\n",
      "\n",
      "currentUnitIndex  2\n",
      "\n",
      "currentUnitIndex  3\n",
      "\n",
      "currentUnitIndex  4\n",
      "\n",
      "currentUnitIndex  5\n",
      "\n",
      "currentUnitIndex  6\n",
      "\n",
      "currentUnitIndex  7\n",
      "\n",
      "currentUnitIndex  8\n",
      "\n",
      "currentUnitIndex  9\n",
      "\n",
      "currentUnitIndex  10\n",
      "\n",
      "currentUnitIndex  11\n",
      "\n",
      "currentUnitIndex  12\n",
      "\n",
      "currentUnitIndex  13\n",
      "All Good :D\n"
     ]
    }
   ],
   "source": [
    "for currentSubjectIndex in range(totalSubjects):\n",
    "    print(\"\\n\\ncurrentSubjectIndex \", currentSubjectIndex)\n",
    "    allSubjects = driver.find_element(By.ID, \"crprogress\").find_elements(By.CLASS_NAME, \"prog-card\")\n",
    "    allSubjects[currentSubjectIndex].find_element(By.TAG_NAME, 'a').click()\n",
    "    totalRemainingUnits = driver.find_element(By.CLASS_NAME, \"unit\").find_elements(By.CLASS_NAME, \"collapse\").__len__()\n",
    "    print(\"\\ntotalRemainingUnit\", totalRemainingUnits)\n",
    "    try:\n",
    "        lectureHandler(True)\n",
    "    except:\n",
    "        time.sleep(20)\n",
    "        lectureHandler(True)\n",
    "    currentRemainingUnitIndex = 1\n",
    "    while currentRemainingUnitIndex < totalRemainingUnits:\n",
    "        currentRemainingUnitIndex = currentRemainingUnitIndex + 1\n",
    "        print(\"\\ncurrentUnitIndex \", currentRemainingUnitIndex)\n",
    "        currentUnitTitle = driver.find_element(By.CLASS_NAME, \"unit\").find_element(By.CLASS_NAME, \"lecture-title\")\n",
    "        WebDriverWait(driver, 10).until(expected_conditions.element_to_be_clickable(currentUnitTitle))\n",
    "        currentUnitTitle.click()\n",
    "        WebDriverWait(driver, 20).until(lambda driver: expected_conditions.presence_of_element_located((By.CLASS_NAME, \"videoli\"))(currentUnitTitle.find_element(By.XPATH, \"./following-sibling::div\")))\n",
    "        try:\n",
    "           lectureHandler()\n",
    "        except Exception as e:\n",
    "            if e == \"Lectures not loaded\":\n",
    "                driver.find_element(By.CLASS_NAME, \"unit\").find_element(By.CLASS_NAME, \"lecture-title\").click()\n",
    "                time.sleep(5)\n",
    "                lectureHandler()\n",
    "    driver.back()\n",
    "print(\"All Good :D\")"
   ]
  }
 ],
 "metadata": {
  "kernelspec": {
   "display_name": "Python 3 (ipykernel)",
   "language": "python",
   "name": "python3"
  },
  "language_info": {
   "codemirror_mode": {
    "name": "ipython",
    "version": 3
   },
   "file_extension": ".py",
   "mimetype": "text/x-python",
   "name": "python",
   "nbconvert_exporter": "python",
   "pygments_lexer": "ipython3",
   "version": "3.11.7"
  }
 },
 "nbformat": 4,
 "nbformat_minor": 2
}
